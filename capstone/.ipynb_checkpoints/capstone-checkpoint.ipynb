{
 "cells": [
  {
   "cell_type": "markdown",
   "metadata": {},
   "source": [
    "# Machine Learning Engineer Nanodegree\n",
    "## Capstone Project\n",
    "Brian Long  \n",
    "November 10th, 2019"
   ]
  },
  {
   "cell_type": "markdown",
   "metadata": {},
   "source": [
    "## I. Definition\n",
    "\n",
    "### Project Overview\n",
    "\n",
    "Twitter is a micro-blogging platform where users can post short messages referred to as\n",
    "“tweets”. Tweets used to be limited to 140 characters but this limit was increased to 280\n",
    "characters in 2017. This enforced conciseness made Twitter a popular platform for\n",
    "people to quickly voice their opinion about a topic without needing to publish a\n",
    "multi-page article. Millions of people write multiple tweets every day to express their\n",
    "thoughts or opinions, both formal and informal. Twitter has become a place for friends to\n",
    "share pictures of their lunch, as well as a place for professionals to discuss emerging\n",
    "practices and technologies.\n",
    "\n",
    "The thing that interests me the most about Twitter as a social media platform is the\n",
    "frequency and openness with which people post. In many ways, a person’s twitter feed\n",
    "is like a journal of their day to day life. There is a wealth of information that seems\n",
    "almost purposefully structured for data science. For example, the use of hashtags to\n",
    "label tweets allows them to be categorized by topic without breaking up the platform into\n",
    "multiple smaller communities that are defined by that topic. Using the public Twitter API,\n",
    "developers can access data about tweets that can then be aggregated and used to\n",
    "drive business decisions across a variety of fields.\n",
    "\n",
    "Twitter stands out as a tool for sentiment analysis because the text differs heavily from\n",
    "the usual data that comes from sources such as movie reviews, product reviews, or\n",
    "news articles. These other sources are typically large bodies of text with proper\n",
    "grammar, whereas tweets are have a strict character limit which keeps them short while\n",
    "also having a very informal tone that doesn't follow grammatical convention. Twitter has\n",
    "been studied as a source of sentiment analysis in the following papers:\n",
    "\n",
    "Go, A., Bhayani, R. and Huang, L., 2009. Twitter sentiment classification using distant\n",
    "supervision. CS224N Project Report, Stanford, 1(12).\n",
    "https://cs.stanford.edu/people/alecmgo/papers/TwitterDistantSupervision09.pdf\n",
    "\n",
    "Agarwal, A., Xie, B., Vovsha, I., Rambow, O., Passonneau, R., Sentiment Analysis of\n",
    "Twitter Data. Columbia.\n",
    "http://www.cs.columbia.edu/~julia/papers/Agarwaletal11.pdf\n",
    "\n",
    "\n",
    "\n",
    "### Problem Statement\n",
    "\n",
    "The information I would most like to extract from these tweets is the general sentiment\n",
    "in terms of whether it has a positive or negative tone. Sentiment analysis is a popular\n",
    "problem in the field of Natural Language Processing. The intricacies of language make\n",
    "it difficult to algorithmically extract meaning from a given body of text. While true\n",
    "sentiment contains much more complexity than can be expressed by the broad\n",
    "definitions of having a positive or negative point of view, this is still valuable information\n",
    "as it can be used to quantify the general public’s feelings towards a company, product,\n",
    "or idea.\n",
    "\n",
    "I will be attempting to create a model that can determine whether a tweet expresses a\n",
    "positive or negative sentiment. I plan to approach this task by using a variant of the Recurrent Neural Network architecture, known as a Long Short-Term Memory network, to better understand text as a sequence rather than a random collection of words. This should allow the model to take ordering of words into account, and draw meaning from the overall sequence as well as the individual words. Before feeding the training data into the model, I will be preprocessing the tweet content in an attempt to normalize the text. This should help to reduce the feature dimensionality of the data.\n",
    "\n",
    "This model could eventually be used to build a tool that uses the Twitter API to have the sentiment evaluated for new tweets. This could further be used to show trends in how the general public views a given topic and leveraged to make business decisions.\n",
    "\n",
    "\n",
    "\n",
    "### Metrics\n",
    "\n",
    "The main metric I will be using to measure the benchmark and solution models will be\n",
    "accuracy. I choose to focus on accuracy over precision or recall because mislabeling a\n",
    "tweet as positive or negative has the same impact. In this instance we are not\n",
    "specifically trying to identify all positive tweets or avoid incorrectly labeling a negative\n",
    "tweet as positive, but to correctly identify as many tweets as possible, regardless of\n",
    "whether they are positive or negative. Since the target class distribution is perfectly\n",
    "balanced between positive and negative tweets, using accuracy should not be affected\n",
    "by simply favoring one choice over the other. I will also be looking at F1-score as a\n",
    "secondary metric so that precision and recall are not entirely discounted, although my\n",
    "main focus will be on improving accuracy.\n",
    "\n",
    "\n"
   ]
  },
  {
   "cell_type": "markdown",
   "metadata": {},
   "source": [
    "## II. Analysis\n",
    "\n",
    "### Data Exploration\n",
    "\n",
    "I will be using a subset of the Sentiment140 dataset to build my Twitter sentiment analysis model.\n",
    "This dataset is a collection of 1.6 million tweets that were gathered from the Twitter API\n",
    "and are labeled as positive or negative. I have cut down the dataset to 700k tweets and added column headers to the csv file included in this project.\n",
    "Since this dataset was intended for use in sentiment analysis, it was set up such that there is a perfect class balance with exactly\n",
    "50% of the training data being positive and 50% being negative. The tweets were\n",
    "labeled based on their inclusion of emoticons, with variations of smiling emoticons being\n",
    "labeled positive, and variations of frowning emoticons being labeled negative. The\n",
    "emoticons were also removed from the dataset after the sentiment labels were added.\n",
    "This dataset was put together using distant supervised learning as a way to showcase\n",
    "its viability in labeling data this way. The data was tested against Naive Bayes,\n",
    "Maximum Entropy, and Support Vector Machine models, all of which scored over 80%\n",
    "accuracy. The complete Sentiment140 dataset is available at the following link:\n",
    "\n",
    "http://help.sentiment140.com/for-students\n",
    "\n",
    "Go, A., Bhayani, R. and Huang, L., 2009. Twitter sentiment classification using distant\n",
    "supervision. CS224N Project Report, Stanford, 1(12).\n",
    "https://cs.stanford.edu/people/alecmgo/papers/TwitterDistantSupervision09.pdf"
   ]
  },
  {
   "cell_type": "markdown",
   "metadata": {},
   "source": [
    "Below, I will begin by importing the dataset and viewing a sample of the entries.\n",
    "\n",
    "The dataset contains 6 columns:\n",
    "    - sentiment: can be either 0 or 4. 0 represents a negative sentiment and 4 represents a positive sentiment.\n",
    "    - tweet_id: the id of the tweet from the Twitter API.\n",
    "    - date: the date that the tweet was posted to Twitter.\n",
    "    - query: the search term used by to find the tweet.\n",
    "    - user: the username of the person who posted the tweet.\n",
    "    - tweet: the content of the tweet that was posted to Twitter.\n",
    "    \n",
    "The 'sentiment' column represents the label we will be attempting to predict."
   ]
  },
  {
   "cell_type": "code",
   "execution_count": 1,
   "metadata": {},
   "outputs": [],
   "source": [
    "import pandas as pd\n",
    "import numpy as np\n",
    "\n",
    "pd.options.display.max_colwidth = 1000\n",
    "df = pd.read_csv(\"twitter_data_700k.csv\")"
   ]
  },
  {
   "cell_type": "code",
   "execution_count": 2,
   "metadata": {},
   "outputs": [
    {
     "data": {
      "text/html": [
       "<div>\n",
       "<style scoped>\n",
       "    .dataframe tbody tr th:only-of-type {\n",
       "        vertical-align: middle;\n",
       "    }\n",
       "\n",
       "    .dataframe tbody tr th {\n",
       "        vertical-align: top;\n",
       "    }\n",
       "\n",
       "    .dataframe thead th {\n",
       "        text-align: right;\n",
       "    }\n",
       "</style>\n",
       "<table border=\"1\" class=\"dataframe\">\n",
       "  <thead>\n",
       "    <tr style=\"text-align: right;\">\n",
       "      <th></th>\n",
       "      <th>sentiment</th>\n",
       "      <th>tweet_id</th>\n",
       "      <th>date</th>\n",
       "      <th>query</th>\n",
       "      <th>user</th>\n",
       "      <th>tweet</th>\n",
       "    </tr>\n",
       "  </thead>\n",
       "  <tbody>\n",
       "    <tr>\n",
       "      <th>0</th>\n",
       "      <td>0</td>\n",
       "      <td>1467810369</td>\n",
       "      <td>Mon Apr 06 22:19:45 PDT 2009</td>\n",
       "      <td>NO_QUERY</td>\n",
       "      <td>_TheSpecialOne_</td>\n",
       "      <td>@switchfoot http://twitpic.com/2y1zl - Awww, that's a bummer.  You shoulda got David Carr of Third Day to do it. ;D</td>\n",
       "    </tr>\n",
       "    <tr>\n",
       "      <th>1</th>\n",
       "      <td>0</td>\n",
       "      <td>1467810672</td>\n",
       "      <td>Mon Apr 06 22:19:49 PDT 2009</td>\n",
       "      <td>NO_QUERY</td>\n",
       "      <td>scotthamilton</td>\n",
       "      <td>is upset that he can't update his Facebook by texting it... and might cry as a result  School today also. Blah!</td>\n",
       "    </tr>\n",
       "    <tr>\n",
       "      <th>2</th>\n",
       "      <td>0</td>\n",
       "      <td>1467810917</td>\n",
       "      <td>Mon Apr 06 22:19:53 PDT 2009</td>\n",
       "      <td>NO_QUERY</td>\n",
       "      <td>mattycus</td>\n",
       "      <td>@Kenichan I dived many times for the ball. Managed to save 50%  The rest go out of bounds</td>\n",
       "    </tr>\n",
       "    <tr>\n",
       "      <th>3</th>\n",
       "      <td>0</td>\n",
       "      <td>1467811184</td>\n",
       "      <td>Mon Apr 06 22:19:57 PDT 2009</td>\n",
       "      <td>NO_QUERY</td>\n",
       "      <td>ElleCTF</td>\n",
       "      <td>my whole body feels itchy and like its on fire</td>\n",
       "    </tr>\n",
       "    <tr>\n",
       "      <th>4</th>\n",
       "      <td>0</td>\n",
       "      <td>1467811193</td>\n",
       "      <td>Mon Apr 06 22:19:57 PDT 2009</td>\n",
       "      <td>NO_QUERY</td>\n",
       "      <td>Karoli</td>\n",
       "      <td>@nationwideclass no, it's not behaving at all. i'm mad. why am i here? because I can't see you all over there.</td>\n",
       "    </tr>\n",
       "  </tbody>\n",
       "</table>\n",
       "</div>"
      ],
      "text/plain": [
       "   sentiment    tweet_id                          date     query  \\\n",
       "0          0  1467810369  Mon Apr 06 22:19:45 PDT 2009  NO_QUERY   \n",
       "1          0  1467810672  Mon Apr 06 22:19:49 PDT 2009  NO_QUERY   \n",
       "2          0  1467810917  Mon Apr 06 22:19:53 PDT 2009  NO_QUERY   \n",
       "3          0  1467811184  Mon Apr 06 22:19:57 PDT 2009  NO_QUERY   \n",
       "4          0  1467811193  Mon Apr 06 22:19:57 PDT 2009  NO_QUERY   \n",
       "\n",
       "              user  \\\n",
       "0  _TheSpecialOne_   \n",
       "1    scotthamilton   \n",
       "2         mattycus   \n",
       "3          ElleCTF   \n",
       "4           Karoli   \n",
       "\n",
       "                                                                                                                 tweet  \n",
       "0  @switchfoot http://twitpic.com/2y1zl - Awww, that's a bummer.  You shoulda got David Carr of Third Day to do it. ;D  \n",
       "1      is upset that he can't update his Facebook by texting it... and might cry as a result  School today also. Blah!  \n",
       "2                            @Kenichan I dived many times for the ball. Managed to save 50%  The rest go out of bounds  \n",
       "3                                                                      my whole body feels itchy and like its on fire   \n",
       "4      @nationwideclass no, it's not behaving at all. i'm mad. why am i here? because I can't see you all over there.   "
      ]
     },
     "execution_count": 2,
     "metadata": {},
     "output_type": "execute_result"
    }
   ],
   "source": [
    "df.head()"
   ]
  },
  {
   "cell_type": "markdown",
   "metadata": {},
   "source": [
    "In the 'sentiment' column above, all of the values appear to be 0, indicating that the sentiment is negative. This is because the data is organized in such that the first half of the dataset is negative and the second half is positive. This can be seen further by examining the tail of the dataset."
   ]
  },
  {
   "cell_type": "code",
   "execution_count": 3,
   "metadata": {},
   "outputs": [
    {
     "data": {
      "text/html": [
       "<div>\n",
       "<style scoped>\n",
       "    .dataframe tbody tr th:only-of-type {\n",
       "        vertical-align: middle;\n",
       "    }\n",
       "\n",
       "    .dataframe tbody tr th {\n",
       "        vertical-align: top;\n",
       "    }\n",
       "\n",
       "    .dataframe thead th {\n",
       "        text-align: right;\n",
       "    }\n",
       "</style>\n",
       "<table border=\"1\" class=\"dataframe\">\n",
       "  <thead>\n",
       "    <tr style=\"text-align: right;\">\n",
       "      <th></th>\n",
       "      <th>sentiment</th>\n",
       "      <th>tweet_id</th>\n",
       "      <th>date</th>\n",
       "      <th>query</th>\n",
       "      <th>user</th>\n",
       "      <th>tweet</th>\n",
       "    </tr>\n",
       "  </thead>\n",
       "  <tbody>\n",
       "    <tr>\n",
       "      <th>699995</th>\n",
       "      <td>4</td>\n",
       "      <td>2193601966</td>\n",
       "      <td>Tue Jun 16 08:40:49 PDT 2009</td>\n",
       "      <td>NO_QUERY</td>\n",
       "      <td>AmandaMarie1028</td>\n",
       "      <td>Just woke up. Having no school is the best feeling ever</td>\n",
       "    </tr>\n",
       "    <tr>\n",
       "      <th>699996</th>\n",
       "      <td>4</td>\n",
       "      <td>2193601969</td>\n",
       "      <td>Tue Jun 16 08:40:49 PDT 2009</td>\n",
       "      <td>NO_QUERY</td>\n",
       "      <td>TheWDBoards</td>\n",
       "      <td>TheWDB.com - Very cool to hear old Walt interviews!  ♫ http://blip.fm/~8bmta</td>\n",
       "    </tr>\n",
       "    <tr>\n",
       "      <th>699997</th>\n",
       "      <td>4</td>\n",
       "      <td>2193601991</td>\n",
       "      <td>Tue Jun 16 08:40:49 PDT 2009</td>\n",
       "      <td>NO_QUERY</td>\n",
       "      <td>bpbabe</td>\n",
       "      <td>Are you ready for your MoJo Makeover? Ask me for details</td>\n",
       "    </tr>\n",
       "    <tr>\n",
       "      <th>699998</th>\n",
       "      <td>4</td>\n",
       "      <td>2193602064</td>\n",
       "      <td>Tue Jun 16 08:40:49 PDT 2009</td>\n",
       "      <td>NO_QUERY</td>\n",
       "      <td>tinydiamondz</td>\n",
       "      <td>Happy 38th Birthday to my boo of alll time!!! Tupac Amaru Shakur</td>\n",
       "    </tr>\n",
       "    <tr>\n",
       "      <th>699999</th>\n",
       "      <td>4</td>\n",
       "      <td>2193602129</td>\n",
       "      <td>Tue Jun 16 08:40:50 PDT 2009</td>\n",
       "      <td>NO_QUERY</td>\n",
       "      <td>RyanTrevMorris</td>\n",
       "      <td>happy #charitytuesday @theNSPCC @SparksCharity @SpeakingUpH4H</td>\n",
       "    </tr>\n",
       "  </tbody>\n",
       "</table>\n",
       "</div>"
      ],
      "text/plain": [
       "        sentiment    tweet_id                          date     query  \\\n",
       "699995          4  2193601966  Tue Jun 16 08:40:49 PDT 2009  NO_QUERY   \n",
       "699996          4  2193601969  Tue Jun 16 08:40:49 PDT 2009  NO_QUERY   \n",
       "699997          4  2193601991  Tue Jun 16 08:40:49 PDT 2009  NO_QUERY   \n",
       "699998          4  2193602064  Tue Jun 16 08:40:49 PDT 2009  NO_QUERY   \n",
       "699999          4  2193602129  Tue Jun 16 08:40:50 PDT 2009  NO_QUERY   \n",
       "\n",
       "                   user  \\\n",
       "699995  AmandaMarie1028   \n",
       "699996      TheWDBoards   \n",
       "699997           bpbabe   \n",
       "699998     tinydiamondz   \n",
       "699999   RyanTrevMorris   \n",
       "\n",
       "                                                                               tweet  \n",
       "699995                      Just woke up. Having no school is the best feeling ever   \n",
       "699996  TheWDB.com - Very cool to hear old Walt interviews!  ♫ http://blip.fm/~8bmta  \n",
       "699997                     Are you ready for your MoJo Makeover? Ask me for details   \n",
       "699998             Happy 38th Birthday to my boo of alll time!!! Tupac Amaru Shakur   \n",
       "699999                happy #charitytuesday @theNSPCC @SparksCharity @SpeakingUpH4H   "
      ]
     },
     "execution_count": 3,
     "metadata": {},
     "output_type": "execute_result"
    }
   ],
   "source": [
    "df.tail()"
   ]
  },
  {
   "cell_type": "markdown",
   "metadata": {},
   "source": [
    "Since the data is organized this way, I will want to shuffle it before training the model. A better representation of the data distribution can be seen by calling sample() on our dataset.  The columns 'tweet_id', 'date', 'query', and 'user' were included in this dataset, but aren't particularly useful in determining the sentiment of the tweet. The 'tweet' column is the only feature I will be focusing on. I dropped the unnecessary features and sample the dataset below.\n"
   ]
  },
  {
   "cell_type": "code",
   "execution_count": 4,
   "metadata": {},
   "outputs": [
    {
     "data": {
      "text/html": [
       "<div>\n",
       "<style scoped>\n",
       "    .dataframe tbody tr th:only-of-type {\n",
       "        vertical-align: middle;\n",
       "    }\n",
       "\n",
       "    .dataframe tbody tr th {\n",
       "        vertical-align: top;\n",
       "    }\n",
       "\n",
       "    .dataframe thead th {\n",
       "        text-align: right;\n",
       "    }\n",
       "</style>\n",
       "<table border=\"1\" class=\"dataframe\">\n",
       "  <thead>\n",
       "    <tr style=\"text-align: right;\">\n",
       "      <th></th>\n",
       "      <th>sentiment</th>\n",
       "      <th>tweet</th>\n",
       "    </tr>\n",
       "  </thead>\n",
       "  <tbody>\n",
       "    <tr>\n",
       "      <th>44155</th>\n",
       "      <td>0</td>\n",
       "      <td>rip @TroyLLF he passed away this mornin !</td>\n",
       "    </tr>\n",
       "    <tr>\n",
       "      <th>262390</th>\n",
       "      <td>0</td>\n",
       "      <td>so sad @iamchrisc really hates us</td>\n",
       "    </tr>\n",
       "    <tr>\n",
       "      <th>265848</th>\n",
       "      <td>0</td>\n",
       "      <td>@tractorqueen its not fair  mourning for south east asian blockheads..thx 4 share it with us gal</td>\n",
       "    </tr>\n",
       "    <tr>\n",
       "      <th>74424</th>\n",
       "      <td>0</td>\n",
       "      <td>@lugowski oh man, that sucks  be safe ! x</td>\n",
       "    </tr>\n",
       "    <tr>\n",
       "      <th>603928</th>\n",
       "      <td>4</td>\n",
       "      <td>@Sweetnote I know but it does me good to hear it ;-) Nite darling x</td>\n",
       "    </tr>\n",
       "    <tr>\n",
       "      <th>426997</th>\n",
       "      <td>4</td>\n",
       "      <td>Motorola unveiled the first consumer DOCSIS3 cable modem today...  100mbit just around the corner Melbourne!</td>\n",
       "    </tr>\n",
       "    <tr>\n",
       "      <th>70731</th>\n",
       "      <td>0</td>\n",
       "      <td>It would appear that the neighbours have noticed my wifi leaching</td>\n",
       "    </tr>\n",
       "    <tr>\n",
       "      <th>641516</th>\n",
       "      <td>4</td>\n",
       "      <td>@u2gal I take it I'll be seeing you in Memphis, then?  Can't wait to hit the road!</td>\n",
       "    </tr>\n",
       "    <tr>\n",
       "      <th>154279</th>\n",
       "      <td>0</td>\n",
       "      <td>@gothunts That sounds ghastly, I hope she's alright.</td>\n",
       "    </tr>\n",
       "    <tr>\n",
       "      <th>370671</th>\n",
       "      <td>4</td>\n",
       "      <td>@jazziebabycakes oh yes, i looooove hitchhiker's guide to the galaxy! i'm rewatching 13 going on 30, hehe</td>\n",
       "    </tr>\n",
       "  </tbody>\n",
       "</table>\n",
       "</div>"
      ],
      "text/plain": [
       "        sentiment  \\\n",
       "44155           0   \n",
       "262390          0   \n",
       "265848          0   \n",
       "74424           0   \n",
       "603928          4   \n",
       "426997          4   \n",
       "70731           0   \n",
       "641516          4   \n",
       "154279          0   \n",
       "370671          4   \n",
       "\n",
       "                                                                                                               tweet  \n",
       "44155                                                                     rip @TroyLLF he passed away this mornin !   \n",
       "262390                                                                            so sad @iamchrisc really hates us   \n",
       "265848              @tractorqueen its not fair  mourning for south east asian blockheads..thx 4 share it with us gal  \n",
       "74424                                                                      @lugowski oh man, that sucks  be safe ! x  \n",
       "603928                                          @Sweetnote I know but it does me good to hear it ;-) Nite darling x   \n",
       "426997  Motorola unveiled the first consumer DOCSIS3 cable modem today...  100mbit just around the corner Melbourne!  \n",
       "70731                                             It would appear that the neighbours have noticed my wifi leaching   \n",
       "641516                           @u2gal I take it I'll be seeing you in Memphis, then?  Can't wait to hit the road!   \n",
       "154279                                                         @gothunts That sounds ghastly, I hope she's alright.   \n",
       "370671    @jazziebabycakes oh yes, i looooove hitchhiker's guide to the galaxy! i'm rewatching 13 going on 30, hehe   "
      ]
     },
     "execution_count": 4,
     "metadata": {},
     "output_type": "execute_result"
    }
   ],
   "source": [
    "df.drop([\"tweet_id\", \"date\", \"query\", \"user\"], axis=1, inplace=True)\n",
    "df.sample(10)"
   ]
  },
  {
   "cell_type": "markdown",
   "metadata": {},
   "source": [
    "As there are only 2 values representing sentiment, I should change that label to be either a 0 or 1 rather than using 4 for the positive sentiment. The tweet content also contains a lot of information that likely won't be useful in determining sentiment, such as usernames and urls. Another challenge will be the informality of speech used. Words are often exaggerated by repeating letters, words are misspelled, and sarcasm is common."
   ]
  },
  {
   "cell_type": "markdown",
   "metadata": {},
   "source": [
    "### Exploratory Visualization\n",
    "\n",
    "The bar graph below shows the perfect class balance of the dataset with the positive and negative tweets each having 350,000 instances."
   ]
  },
  {
   "cell_type": "code",
   "execution_count": 5,
   "metadata": {},
   "outputs": [
    {
     "data": {
      "image/png": "[encoded data removed]",
      "text/plain": [
       "<Figure size 432x288 with 1 Axes>"
      ]
     },
     "metadata": {
      "needs_background": "light"
     },
     "output_type": "display_data"
    },
    {
     "name": "stdout",
     "output_type": "stream",
     "text": [
      "Positive Tweets: 350000\n",
      "Negative Tweets: 350000\n"
     ]
    }
   ],
   "source": [
    "import matplotlib.pyplot as plt\n",
    "%matplotlib inline\n",
    "\n",
    "pos = len(df.loc[df[\"sentiment\"] == 4])\n",
    "neg = len(df.loc[df[\"sentiment\"] == 0])\n",
    "\n",
    "labels = [\"Positive\", \"Negative\"]\n",
    "values = [pos, neg]\n",
    "\n",
    "index = np.arange(len(labels))\n",
    "\n",
    "plt.title(\"Twitter Sentiment Data\")\n",
    "plt.xlabel(\"Sentiment\")\n",
    "plt.xticks(index, labels)\n",
    "plt.bar(index, values)\n",
    "plt.show()\n",
    "\n",
    "print(f\"Positive Tweets: {pos}\")\n",
    "print(f\"Negative Tweets: {neg}\")\n"
   ]
  },
  {
   "cell_type": "markdown",
   "metadata": {},
   "source": [
    "Below I show the character counts across the tweet data. The original 140 character limit is shown clearly here, with a few instances using a couple more characters which must be after the update to allow 280 characters. It seems to be a somewhat level distribution after about 15 characters, with a large number of tweets being \"short and sweet\" at around 25-50 characters, followed but a slight dip until a spike in tweets right near the character limit."
   ]
  },
  {
   "cell_type": "code",
   "execution_count": 6,
   "metadata": {},
   "outputs": [
    {
     "data": {
      "image/png": "[encoded data removed]",
      "text/plain": [
       "<Figure size 1152x288 with 1 Axes>"
      ]
     },
     "metadata": {
      "needs_background": "light"
     },
     "output_type": "display_data"
    }
   ],
   "source": [
    "char_count = df[\"tweet\"].apply(lambda x: len(x))\n",
    "char_dict = char_count.groupby(char_count).count().to_dict()\n",
    "\n",
    "index = np.arange(len(char_dict))\n",
    "\n",
    "plt.figure(figsize=(16,4))\n",
    "plt.title(\"Tweet Character Count\")\n",
    "plt.xlabel(\"Characters\")\n",
    "plt.ylabel(\"Tweets\")\n",
    "plt.bar(index, char_dict.values())\n",
    "plt.show()\n"
   ]
  },
  {
   "cell_type": "markdown",
   "metadata": {},
   "source": [
    "Next, I will look at the word count in these tweets. While this does relate closely to the character count, we get additional information here which can be useful in future steps when we will need to tokenize and pad the tweets to all be the same length. It appears that most tweets contain around 5 to 10 words. The number of tweets then trail off and don't seem to extend beyond 35 words."
   ]
  },
  {
   "cell_type": "code",
   "execution_count": 7,
   "metadata": {},
   "outputs": [
    {
     "data": {
      "image/png": "[encoded data removed]",
      "text/plain": [
       "<Figure size 1152x288 with 1 Axes>"
      ]
     },
     "metadata": {
      "needs_background": "light"
     },
     "output_type": "display_data"
    }
   ],
   "source": [
    "word_count = df[\"tweet\"].apply(lambda x: len(x.split()))\n",
    "word_dict = char_count.groupby(word_count).count().to_dict()\n",
    "\n",
    "index = np.arange(len(word_dict))\n",
    "\n",
    "plt.figure(figsize=(16,4))\n",
    "plt.title(\"Tweet Word Count\")\n",
    "plt.xlabel(\"Words\")\n",
    "plt.ylabel(\"Tweets\")\n",
    "plt.bar(index, word_dict.values())\n",
    "plt.show()\n"
   ]
  },
  {
   "cell_type": "markdown",
   "metadata": {},
   "source": [
    "### Algorithms and Techniques\n",
    "\n",
    "I intend to use a Recurrent Neural Network (RNN) as a classifier for the sentiment of the tweets. RNN's, and in particular Long Short-Term Memory networks (LSTMs), have gained popularity as a tool for natural language processing tasks because they have the ability to understand a sentence as a sequence of words rather than a random jumbling of words. \n",
    "\n",
    "RNN's do this by looping through steps in a sequence and maintaining the state of its previous outputs to use as input in the next step. RNN's in their most basic form have issues with vanishing and exploding gradients. Vanishing gradient is when early layers in a model are unable to adjust their weights enough for significant learning to occur. This is because backpropagation calculates the gradient of a layer as a product of the derivatives of the following layers from the output layer backwards. If these gradients are smaller than 1, multiplying them together can quickly bring the number close to 0. This leads to an RNN only being able to remember very recent steps when processing a sequence. Exploding gradient is the opposite, when values larger than 1 are amplified by backpropagation. Exploding gradients can be avoided with gradient clipping, which basically sets an upper bound on a gradient value. Vanishing gradients are trickier to prevent. \n",
    "\n",
    "LSTMs are a variation of the RNN architecture that solves the vanishing gradient problem by maintaining a cell state and selectively remembering or forgetting information at each step. A forget gate is responsible deciding which information should be removed from or stay in the cell state, an input gate determines what new information should be added, and an output gate decides which information from the call state should be used as input in the following step. These gate functions have their own weights which are adjusted during learning, much like a neural network node. These gates regulate the cell state and allow the LSTM to have a better understanding of long term dependencies in sequences.\n",
    "\n",
    "This leads to a sophistication of understanding that other \"bag-of-words\" models can't achieve. For example, given the text \"My team did not win\", a bag-of-words model might see the word \"win\" and predict that the text is positive, where a RNN might notice the negation in \"did not win\" and be able to predict that the text is negative.\n",
    "\n",
    "I plan to do some preprocessing on the tweet content to try to normalize the text, as the informal and concise nature of Twitter leads to some very creative spelling and grammar. This will mostly involve removing text that doesn't seem useful in determining the sentiment of the tweet. \n",
    "\n",
    "After the text content has gone through preprocessing. I will train an LSTM network on the data using an embedding layer as the input. The embedding layer is used to create word vector representations and is more efficient than using one-hot encoding as they can lead to a huge amount of features that are mostly 0's.\n"
   ]
  },
  {
   "cell_type": "markdown",
   "metadata": {},
   "source": [
    "### Benchmark\n",
    "\n",
    "I will be using a Naive Bayes model with a Bag of Words approach as my benchmark\n",
    "model. Naive Bayes is often used as a benchmark in Natural Language Processing\n",
    "problems since the implementation is simple but fairly effective. This model will then be\n",
    "tested for accuracy in terms of how many tweets were correctly identified as positive or\n",
    "negative.\n",
    "\n",
    "Before testing the benchmark model, I first separate the data into labels and features. The labels will be the sentiment, which I will also run through a mapping function to convert all of the 4's into 1's. The feature set will consist of only the tweet content. I then split the dataset into training and testing subsets using scikit-learn's train_test_split."
   ]
  },
  {
   "cell_type": "code",
   "execution_count": 8,
   "metadata": {},
   "outputs": [],
   "source": [
    "from sklearn.model_selection import train_test_split\n",
    "\n",
    "y = df['sentiment'].map({0: 0, 4: 1}) # here I am mapping the labels to be 0 and 1 rather than 0 and 4\n",
    "X = df.drop(['sentiment'], axis=1)\n",
    "X_train, X_test, y_train, y_test = train_test_split(X, y, test_size=.25, random_state=42)"
   ]
  },
  {
   "cell_type": "markdown",
   "metadata": {},
   "source": [
    "I will tokenize the tweet content using a CountVectorizer. This will keep track of the number of times each feature/word appears in a given instance. A Naive Bayes model is then fit to the training data before predicting the sentiment class of the test data."
   ]
  },
  {
   "cell_type": "code",
   "execution_count": 9,
   "metadata": {},
   "outputs": [],
   "source": [
    "from sklearn.feature_extraction.text import CountVectorizer\n",
    "\n",
    "count_vector = CountVectorizer()\n",
    "\n",
    "train_vector = count_vector.fit_transform(X_train['tweet'])\n",
    "test_vector = count_vector.transform(X_test['tweet'])"
   ]
  },
  {
   "cell_type": "code",
   "execution_count": 10,
   "metadata": {},
   "outputs": [
    {
     "data": {
      "text/plain": [
       "MultinomialNB(alpha=1.0, class_prior=None, fit_prior=True)"
      ]
     },
     "execution_count": 10,
     "metadata": {},
     "output_type": "execute_result"
    }
   ],
   "source": [
    "from sklearn.naive_bayes import MultinomialNB\n",
    "naive_bayes = MultinomialNB()\n",
    "naive_bayes.fit(train_vector, y_train)"
   ]
  },
  {
   "cell_type": "code",
   "execution_count": 11,
   "metadata": {},
   "outputs": [],
   "source": [
    "predictions = naive_bayes.predict(test_vector)"
   ]
  },
  {
   "cell_type": "code",
   "execution_count": 12,
   "metadata": {},
   "outputs": [
    {
     "name": "stdout",
     "output_type": "stream",
     "text": [
      "[[72530 14882]\n",
      " [23765 63823]]\n",
      "              precision    recall  f1-score   support\n",
      "\n",
      "           0       0.75      0.83      0.79     87412\n",
      "           1       0.81      0.73      0.77     87588\n",
      "\n",
      "   micro avg       0.78      0.78      0.78    175000\n",
      "   macro avg       0.78      0.78      0.78    175000\n",
      "weighted avg       0.78      0.78      0.78    175000\n",
      "\n",
      "0.77916\n"
     ]
    }
   ],
   "source": [
    "from sklearn.metrics import classification_report, confusion_matrix, accuracy_score\n",
    "\n",
    "print(confusion_matrix(y_test,predictions))\n",
    "print(classification_report(y_test,predictions))\n",
    "print(accuracy_score(y_test, predictions))"
   ]
  },
  {
   "cell_type": "markdown",
   "metadata": {},
   "source": [
    "The accuracy of the benchmark Naive Bayes model is about 78%."
   ]
  },
  {
   "cell_type": "markdown",
   "metadata": {},
   "source": [
    "## III. Methodology\n",
    "\n",
    "### Data Preprocessing\n",
    "\n",
    "The labels were already altered in the benchmarking step to have positive tweets labeled with a 1 rather than a 4, but the tweet content will still need a good amount of preprocessing due to the informal nature of the tweets. I will apply a series text substitutions using regular expressions to make the tweets a little more uniform and to remove unnecessary information to reduce the dimensionality of the feature set. \n",
    "\n",
    "First, all characters will be converted lowercase. Usernames int the format @user and hashtags in the format #tag will be removed as these can often refer to a subject but do not a sentiment. Urls are removed as they may link to relevant information, but don't carry that information in url form. Repeated letters are reduced down to only repeating the letter twice so that words like \"hellooooo\" and \"hellllooooo\" would both map to \"helloo\". While this is not ideal, as they should map to \"hello\", some repeated letters are valid, such as the \"ll\" in \"hello\", so reducing all repeated characters to a single character would have its own problems. Punctuation that is used to break up a thought, such as a comma, period, or exclamation point, is replaced with a space since it is common to forget to add that space and simply removing it could combine the two words around it. Other punctuation, such as an apostrophe, is simply removed to combine the letters in contractions rather than treating them as separate words, for example \"don't\" will be \"dont\" instead of \"don\" and \"t\". Finally all words with less than 3 characters are removed to get rid of filler words that dont add much to a sentence like \"as\" or \"of\". \n",
    "\n",
    "This cleans up the tweet content by a significant amount, but the informal speech will still have some issues that are harder to detect and fix such as sarcasm."
   ]
  },
  {
   "cell_type": "code",
   "execution_count": 13,
   "metadata": {},
   "outputs": [],
   "source": [
    "import re\n",
    "\n",
    "def processTweet(tweet):\n",
    "    tweet = tweet.lower() # lowercase\n",
    "    tweet = re.sub(\"[@|#]\\w+\\S\",\"\", tweet) # remove @usernames and #hashtags\n",
    "    tweet = re.sub(\"http[s]?://[\\S]+\", '', tweet) # remove urls \n",
    "    tweet = re.sub(r\"(.)\\1\\1+\",r\"\\1\\1\", tweet) # remove letters that repeat more than 2 times\n",
    "    tweet = re.sub('[!&()+,-./:;<=>?[\\\\]_{|}~]', ' ',tweet) # replace certain punctuation with a space \n",
    "    tweet = re.sub('[!\"#$%&\\'()*+,-./:;<=>?@[\\\\]^_`{|}~]', '',tweet) # remove remaining punctuation\n",
    "    tweet = re.sub(r'\\b\\w{1,2}\\b', '', tweet) # remove words that are less than 3 characters\n",
    "    return tweet"
   ]
  },
  {
   "cell_type": "code",
   "execution_count": 14,
   "metadata": {},
   "outputs": [
    {
     "data": {
      "text/html": [
       "<div>\n",
       "<style scoped>\n",
       "    .dataframe tbody tr th:only-of-type {\n",
       "        vertical-align: middle;\n",
       "    }\n",
       "\n",
       "    .dataframe tbody tr th {\n",
       "        vertical-align: top;\n",
       "    }\n",
       "\n",
       "    .dataframe thead th {\n",
       "        text-align: right;\n",
       "    }\n",
       "</style>\n",
       "<table border=\"1\" class=\"dataframe\">\n",
       "  <thead>\n",
       "    <tr style=\"text-align: right;\">\n",
       "      <th></th>\n",
       "      <th>sentiment</th>\n",
       "      <th>tweet</th>\n",
       "    </tr>\n",
       "  </thead>\n",
       "  <tbody>\n",
       "    <tr>\n",
       "      <th>0</th>\n",
       "      <td>0</td>\n",
       "      <td>aww  thats  bummer   you shoulda got david carr  third day</td>\n",
       "    </tr>\n",
       "    <tr>\n",
       "      <th>1</th>\n",
       "      <td>0</td>\n",
       "      <td>upset that  cant update his facebook  texting    and might cry   result  school today also  blah</td>\n",
       "    </tr>\n",
       "    <tr>\n",
       "      <th>2</th>\n",
       "      <td>0</td>\n",
       "      <td>dived many times for the ball  managed  save   the rest  out  bounds</td>\n",
       "    </tr>\n",
       "    <tr>\n",
       "      <th>3</th>\n",
       "      <td>0</td>\n",
       "      <td>whole body feels itchy and like its  fire</td>\n",
       "    </tr>\n",
       "    <tr>\n",
       "      <th>4</th>\n",
       "      <td>0</td>\n",
       "      <td>its not behaving  all   mad  why   here  because  cant see you all over there</td>\n",
       "    </tr>\n",
       "  </tbody>\n",
       "</table>\n",
       "</div>"
      ],
      "text/plain": [
       "   sentiment  \\\n",
       "0          0   \n",
       "1          0   \n",
       "2          0   \n",
       "3          0   \n",
       "4          0   \n",
       "\n",
       "                                                                                                tweet  \n",
       "0                                    aww  thats  bummer   you shoulda got david carr  third day        \n",
       "1   upset that  cant update his facebook  texting    and might cry   result  school today also  blah   \n",
       "2                                dived many times for the ball  managed  save   the rest  out  bounds  \n",
       "3                                                          whole body feels itchy and like its  fire   \n",
       "4                     its not behaving  all   mad  why   here  because  cant see you all over there    "
      ]
     },
     "execution_count": 14,
     "metadata": {},
     "output_type": "execute_result"
    }
   ],
   "source": [
    "df['tweet'] = df['tweet'].map(lambda tweet: processTweet(tweet))\n",
    "\n",
    "df.head()"
   ]
  },
  {
   "cell_type": "markdown",
   "metadata": {},
   "source": [
    "### Implementation\n",
    "\n",
    "I first run the data through a tokenizer so that the sentences are broken down into sequences. A maximum vocabulary size is used so that less important features are discarded. After the tweets are tokenized, I add padding to the shorter sequences to ensure that they will all be the same length to be fed into the neural network. I decided that the maximum length should be 35 based on the word count graph in the Exploratory Visualization section."
   ]
  },
  {
   "cell_type": "code",
   "execution_count": 15,
   "metadata": {},
   "outputs": [
    {
     "name": "stderr",
     "output_type": "stream",
     "text": [
      "Using TensorFlow backend.\n"
     ]
    }
   ],
   "source": [
    "from keras.preprocessing import sequence, text\n",
    "from keras.utils import to_categorical\n",
    "\n",
    "from sklearn.feature_extraction.text import TfidfVectorizer\n",
    "\n",
    "vocabulary_size = 20000\n",
    "\n",
    "tokenizer = text.Tokenizer(num_words=vocabulary_size)\n",
    "tokenizer.fit_on_texts(X_train['tweet'])\n",
    "\n",
    "train_token = tokenizer.texts_to_sequences(X_train['tweet'])\n",
    "test_token = tokenizer.texts_to_sequences(X_test['tweet'])\n",
    "\n",
    "max_words = 35\n",
    "train_padded = sequence.pad_sequences(train_token, maxlen=max_words)\n",
    "test_padded = sequence.pad_sequences(test_token, maxlen=max_words)"
   ]
  },
  {
   "cell_type": "markdown",
   "metadata": {},
   "source": [
    "After the input data is prepared, I define the architecture for the neural network. I will use an embedding layer layer as input, with the input dimensions being equal to the vocabulary size. The input length of each sequence will be max_words which is the length of all of the sequences after padding. The output dimension of the embedding layer will be 32, which is a number I found through trial and error. This will then feed into an LSTM layer, which will have a dropout rate of 0.5 to prevent overfitting. The output of the LSTM layer will go into a Fully-Connected layer which will determine the final prediction using a sigmoid activation function. The summary can be seen below."
   ]
  },
  {
   "cell_type": "code",
   "execution_count": 16,
   "metadata": {
    "scrolled": true
   },
   "outputs": [
    {
     "name": "stderr",
     "output_type": "stream",
     "text": [
      "WARNING: Logging before flag parsing goes to stderr.\n",
      "W1110 17:10:46.975821 140190382028544 deprecation_wrapper.py:119] From /home/blong/anaconda3/lib/python3.7/site-packages/keras/backend/tensorflow_backend.py:74: The name tf.get_default_graph is deprecated. Please use tf.compat.v1.get_default_graph instead.\n",
      "\n",
      "W1110 17:10:46.991589 140190382028544 deprecation_wrapper.py:119] From /home/blong/anaconda3/lib/python3.7/site-packages/keras/backend/tensorflow_backend.py:517: The name tf.placeholder is deprecated. Please use tf.compat.v1.placeholder instead.\n",
      "\n",
      "W1110 17:10:46.994090 140190382028544 deprecation_wrapper.py:119] From /home/blong/anaconda3/lib/python3.7/site-packages/keras/backend/tensorflow_backend.py:4138: The name tf.random_uniform is deprecated. Please use tf.random.uniform instead.\n",
      "\n",
      "W1110 17:10:47.061294 140190382028544 deprecation_wrapper.py:119] From /home/blong/anaconda3/lib/python3.7/site-packages/keras/backend/tensorflow_backend.py:133: The name tf.placeholder_with_default is deprecated. Please use tf.compat.v1.placeholder_with_default instead.\n",
      "\n",
      "W1110 17:10:47.067534 140190382028544 deprecation.py:506] From /home/blong/anaconda3/lib/python3.7/site-packages/keras/backend/tensorflow_backend.py:3445: calling dropout (from tensorflow.python.ops.nn_ops) with keep_prob is deprecated and will be removed in a future version.\n",
      "Instructions for updating:\n",
      "Please use `rate` instead of `keep_prob`. Rate should be set to `rate = 1 - keep_prob`.\n"
     ]
    },
    {
     "name": "stdout",
     "output_type": "stream",
     "text": [
      "_________________________________________________________________\n",
      "Layer (type)                 Output Shape              Param #   \n",
      "=================================================================\n",
      "embedding_1 (Embedding)      (None, 35, 32)            640000    \n",
      "_________________________________________________________________\n",
      "lstm_1 (LSTM)                (None, 32)                8320      \n",
      "_________________________________________________________________\n",
      "dense_1 (Dense)              (None, 1)                 33        \n",
      "=================================================================\n",
      "Total params: 648,353\n",
      "Trainable params: 648,353\n",
      "Non-trainable params: 0\n",
      "_________________________________________________________________\n",
      "None\n"
     ]
    }
   ],
   "source": [
    "from keras import Sequential\n",
    "from keras.layers import Embedding, LSTM, Dense, Dropout, Activation\n",
    "\n",
    "embedding_size=32\n",
    "\n",
    "model = Sequential()\n",
    "model.add(Embedding(vocabulary_size, embedding_size, input_length=max_words))\n",
    "model.add(LSTM(32, dropout=0.5))\n",
    "model.add(Dense(1, activation='sigmoid'))\n",
    "\n",
    "print(model.summary())\n"
   ]
  },
  {
   "cell_type": "code",
   "execution_count": 17,
   "metadata": {},
   "outputs": [
    {
     "name": "stderr",
     "output_type": "stream",
     "text": [
      "W1110 17:10:47.222622 140190382028544 deprecation_wrapper.py:119] From /home/blong/anaconda3/lib/python3.7/site-packages/keras/optimizers.py:790: The name tf.train.Optimizer is deprecated. Please use tf.compat.v1.train.Optimizer instead.\n",
      "\n",
      "W1110 17:10:47.236896 140190382028544 deprecation_wrapper.py:119] From /home/blong/anaconda3/lib/python3.7/site-packages/keras/backend/tensorflow_backend.py:3376: The name tf.log is deprecated. Please use tf.math.log instead.\n",
      "\n",
      "W1110 17:10:47.242471 140190382028544 deprecation.py:323] From /home/blong/anaconda3/lib/python3.7/site-packages/tensorflow/python/ops/nn_impl.py:180: add_dispatch_support.<locals>.wrapper (from tensorflow.python.ops.array_ops) is deprecated and will be removed in a future version.\n",
      "Instructions for updating:\n",
      "Use tf.where in 2.0, which has the same broadcast rule as np.where\n"
     ]
    }
   ],
   "source": [
    "loss_func = 'binary_crossentropy'\n",
    "\n",
    "model.compile(loss=loss_func, \n",
    "             optimizer='adam', \n",
    "             metrics=['accuracy'])"
   ]
  },
  {
   "cell_type": "markdown",
   "metadata": {},
   "source": [
    "Since there are only two classes as output, positive (1) and negative (0), binary crossentropy will be used as the loss function when compiling the model.\n",
    "\n",
    "When training the model, I will use two callbacks, ModelCheckpoint for saving the best performing model during training, and EarlyStopping to prevent the training from continuing if the model isn't improving anymore. Both the ModelCheckpoint and the EarlyStopper will be using validation accuracy as the metric to monitor. This allows me to set the epochs at a higher number than I expect to be beneficial and allow the model to stop itself when it isn't learning anymore. The data is then shuffled and split into 80% training and 20% validation sets and the model is trained on it."
   ]
  },
  {
   "cell_type": "code",
   "execution_count": 18,
   "metadata": {},
   "outputs": [
    {
     "name": "stdout",
     "output_type": "stream",
     "text": [
      "Train on 420000 samples, validate on 105000 samples\n",
      "Epoch 1/20\n",
      "420000/420000 [==============================] - 483s 1ms/step - loss: 0.4494 - acc: 0.7895 - val_loss: 0.4207 - val_acc: 0.8058\n",
      "\n",
      "Epoch 00001: val_acc improved from -inf to 0.80579, saving model to model.weights.best.hdf5\n",
      "Epoch 2/20\n",
      "420000/420000 [==============================] - 479s 1ms/step - loss: 0.4016 - acc: 0.8170 - val_loss: 0.4092 - val_acc: 0.8135\n",
      "\n",
      "Epoch 00002: val_acc improved from 0.80579 to 0.81350, saving model to model.weights.best.hdf5\n",
      "Epoch 3/20\n",
      "420000/420000 [==============================] - 485s 1ms/step - loss: 0.3824 - acc: 0.8276 - val_loss: 0.4027 - val_acc: 0.8164\n",
      "\n",
      "Epoch 00003: val_acc improved from 0.81350 to 0.81642, saving model to model.weights.best.hdf5\n",
      "Epoch 4/20\n",
      "420000/420000 [==============================] - 490s 1ms/step - loss: 0.3690 - acc: 0.8353 - val_loss: 0.4056 - val_acc: 0.8156\n",
      "\n",
      "Epoch 00004: val_acc did not improve from 0.81642\n",
      "Epoch 5/20\n",
      "420000/420000 [==============================] - 489s 1ms/step - loss: 0.3582 - acc: 0.8408 - val_loss: 0.4115 - val_acc: 0.8173\n",
      "\n",
      "Epoch 00005: val_acc improved from 0.81642 to 0.81734, saving model to model.weights.best.hdf5\n",
      "Epoch 6/20\n",
      "420000/420000 [==============================] - 484s 1ms/step - loss: 0.3501 - acc: 0.8456 - val_loss: 0.4085 - val_acc: 0.8160\n",
      "\n",
      "Epoch 00006: val_acc did not improve from 0.81734\n",
      "Epoch 7/20\n",
      "420000/420000 [==============================] - 484s 1ms/step - loss: 0.3427 - acc: 0.8493 - val_loss: 0.4204 - val_acc: 0.8162\n",
      "\n",
      "Epoch 00007: val_acc did not improve from 0.81734\n",
      "Epoch 8/20\n",
      "420000/420000 [==============================] - 486s 1ms/step - loss: 0.3365 - acc: 0.8525 - val_loss: 0.4191 - val_acc: 0.8147\n",
      "\n",
      "Epoch 00008: val_acc did not improve from 0.81734\n",
      "Epoch 00008: early stopping\n"
     ]
    },
    {
     "data": {
      "text/plain": [
       "<keras.callbacks.History at 0x7f7ff9b25cf8>"
      ]
     },
     "execution_count": 18,
     "metadata": {},
     "output_type": "execute_result"
    }
   ],
   "source": [
    "from keras.callbacks import ModelCheckpoint, EarlyStopping\n",
    "\n",
    "saved_model_path = 'model.weights.best.hdf5'\n",
    "\n",
    "checkpointer = ModelCheckpoint(filepath=saved_model_path, \n",
    "                               monitor='val_acc',\n",
    "                               save_best_only=True,\n",
    "                               verbose=1)\n",
    "\n",
    "early_stop = EarlyStopping(monitor='val_acc', \n",
    "                           patience=3,\n",
    "                           verbose=1)\n",
    "\n",
    "batch_size = 32\n",
    "num_epochs = 20\n",
    "model.fit(train_padded, \n",
    "          y_train, \n",
    "          validation_split=0.2, \n",
    "          batch_size=batch_size, \n",
    "          epochs=num_epochs,\n",
    "          shuffle=True,\n",
    "          callbacks=[checkpointer, early_stop])\n"
   ]
  },
  {
   "cell_type": "markdown",
   "metadata": {},
   "source": [
    "After the training has completed, I will load the best weights into the model. Then I will use the model to predict the sentiment of the test data."
   ]
  },
  {
   "cell_type": "code",
   "execution_count": 19,
   "metadata": {},
   "outputs": [],
   "source": [
    "model.load_weights(saved_model_path)"
   ]
  },
  {
   "cell_type": "code",
   "execution_count": 20,
   "metadata": {},
   "outputs": [],
   "source": [
    "rnn_pred = model.predict_classes(test_padded)"
   ]
  },
  {
   "cell_type": "code",
   "execution_count": 21,
   "metadata": {},
   "outputs": [
    {
     "name": "stdout",
     "output_type": "stream",
     "text": [
      "[[72197 15215]\n",
      " [16438 71150]]\n",
      "              precision    recall  f1-score   support\n",
      "\n",
      "           0       0.81      0.83      0.82     87412\n",
      "           1       0.82      0.81      0.82     87588\n",
      "\n",
      "   micro avg       0.82      0.82      0.82    175000\n",
      "   macro avg       0.82      0.82      0.82    175000\n",
      "weighted avg       0.82      0.82      0.82    175000\n",
      "\n",
      "0.8191257142857142\n"
     ]
    }
   ],
   "source": [
    "print(confusion_matrix(y_test, rnn_pred))\n",
    "print(classification_report(y_test, rnn_pred))\n",
    "print(accuracy_score(y_test, rnn_pred))"
   ]
  },
  {
   "cell_type": "markdown",
   "metadata": {},
   "source": [
    "The final RNN model has an accuracy of about 82%. This is a slight improvement from the benchmark accuracy of about 78%."
   ]
  },
  {
   "cell_type": "markdown",
   "metadata": {},
   "source": [
    "### Refinement\n",
    "\n",
    "I went through a lot of variations of model parameters and neural network architecture before landing on the final model. During this time I sampled the full dataframe to only use a subset of the data for quicker iteration. I experimented with different numbers of words in the vocabulary, I saw an increase in performance as the number went up, but also significant slow down in the training process. I found a good compromise at 20,000 words in the vocabulary. I found that large batch sizes  performed slightly poorer than smaller batch sizes. I reduced the batch size until the improvements seemed to stagnate and ended up with a batch size of 32. \n",
    "\n",
    "Originally I was training the model for a fixed number of epochs. When I noticed the quality of the model was degrading in the later epochs, I decided to use a ModelCheckpointer to save the top performing model. I later added the EarlyStopping callback as well, to prevent the model from continuing to train when performance isn't increasing anymore. I then set the epochs to 20, which is more than I expect the improvements to last, and let the model decide when to stop training. The addition of these callbacks was where I found the greatest improvements in both performance and iteration speed. \n",
    "\n",
    "For the neural network architecture, I ended up with a pretty simple model with one Embedding layer, one LSTM layer, and one Fully-Connected layer. I tried adding more Fully Connected layers, more LSTM layers, putting Dropout layers in between these layers, etc. but with every additional thing I added, I saw the performance drop. So I ended up going back to the simple architecture and then tweaked the dropout until I found the best results at 0.5. I also tried a few values for the output dimensions of the embedding layer as low as 10 and as high as 128 and found 32 to be the best fit."
   ]
  },
  {
   "cell_type": "markdown",
   "metadata": {},
   "source": [
    "## IV. Results\n",
    "\n",
    "### Model Evaluation and Validation\n"
   ]
  },
  {
   "cell_type": "markdown",
   "metadata": {},
   "source": [
    "Below I will test the model on some additional data to examine the results. "
   ]
  },
  {
   "cell_type": "code",
   "execution_count": 42,
   "metadata": {},
   "outputs": [
    {
     "data": {
      "text/plain": [
       "array([[1.        , 0.98263985],\n",
       "       [1.        , 0.98761964],\n",
       "       [1.        , 0.89375877],\n",
       "       [0.        , 0.00770876],\n",
       "       [0.        , 0.01853481],\n",
       "       [0.        , 0.05545729],\n",
       "       [1.        , 0.71028316],\n",
       "       [0.        , 0.28143016],\n",
       "       [1.        , 0.64149153]])"
      ]
     },
     "execution_count": 42,
     "metadata": {},
     "output_type": "execute_result"
    }
   ],
   "source": [
    "pos1 = \"I had a great time at the concert tonight!\"\n",
    "pos2 = \"This is the best blueberry muffin in the world.\"\n",
    "pos3 = \"Gotta love ice cream on a hot day\"\n",
    "\n",
    "neg1 = \"I hate going to the dentist!\"\n",
    "neg2 = \"My team did not win the game today\"\n",
    "neg3 = \"This rainy weather is really getting me down\"\n",
    "\n",
    "ntrl1 = \"The sky is blue\"\n",
    "ntrl2 = \"The car is red\"\n",
    "ntrl3 = \"The current month is November\"\n",
    "\n",
    "seq = tokenizer.texts_to_sequences([pos1, pos2, pos3, neg1, neg2, neg3, ntrl1, ntrl2, ntrl3])\n",
    "pad = sequence.pad_sequences(seq, maxlen=max_words)\n",
    "\n",
    "pred_class = model.predict_classes(pad)\n",
    "pred_prob = model.predict(pad)\n",
    "\n",
    "np.concatenate([pred_class, pred_prob], axis=1)"
   ]
  },
  {
   "cell_type": "markdown",
   "metadata": {},
   "source": [
    "I ran 3 positive, 3 negative, and 3 neutral texts through the model. The positive and negative texts were all identified correctly, even in the tricky case of neg3 where negation is used with a positive word in \"did not win\". However, neutral text is where this model starts to fall apart. This model is trained to output positive or negative and will always pick one, despite its level of certainty. In reality, a lot of text doesn't really express positive or negative sentiment. In the array shown above, \"The sky is blue\" is predicted to be a positive sentiment while \"The car is red\" is predicted to be negative. These are essentially the same sentences, just switching out the subject and the color. No sentiment is actually expressed in either case, but the model had to pick a classification. It is also interesting to see the confidence of the predictions in each case, as shown in the right column of the array. In the positive examples, the numbers are all very close to 1, and in the negative examples they are all very close to 0. In the neutral cases, you can see that the values are getting closer to the middle at 0.5, so it is possible that had there been a third class for neutral, that these texts could have been appropriately classified."
   ]
  },
  {
   "cell_type": "markdown",
   "metadata": {},
   "source": [
    "### Justification\n",
    "\n",
    "The final result of the RNN model was an accuracy of about 82% which is an improvement over the benchmark accuracy of 78%. I believe that in this instance the benchmark model performed pretty well, so the RNN model doesn't initially seem too impressive being only 4% more accurate. However, had the benchmark been a random guess of positive or negative, the benchmark accuracy would be about 50% and the improvement would seem huge at a 32% difference. With a base accuracy of 78%, there is only 22% room for improvement, so 4% is actually fairly significant.\n",
    "\n",
    "I believe that the final solution did solve the problem, since being able to determine sentiment in a short amount of text with an 82% accuracy rate can be very useful as a tool. The output should not be taken as ultimate truth, but it will most likely be correct. It becomes more useful if you take the confidence values into account and not just the classification. This can help to alleviate the problem of neutral text. If you only consider the sentiment classification valid if positive is above a certain threshold such as 0.85 or negative is below 0.15 you can weed out a lot of the neutral texts and be more confident in the output of the model. The output of this model can then be used along with other data for decision making or as a feature to be used in another machine learning model."
   ]
  },
  {
   "cell_type": "markdown",
   "metadata": {},
   "source": [
    "## V. Conclusion\n",
    "\n",
    "### Free-Form Visualization\n"
   ]
  },
  {
   "cell_type": "markdown",
   "metadata": {},
   "source": [
    "In the graph below, the Receiver Operating Characteristic (ROC) is shown for both the benchmark and the final model. Both models take up a majority of the graph, but the final model has a slightly bigger area under the curve and performs better at classification than the benchmark model. A model with no ability to classify better than a random guess would have an area of 0.5 and look like a diagonal line from (0, 0) to (1, 1). The benchmark model had an area of 0.78 and the final model has an area of 0.82, both of which are much better at classification than a random guess."
   ]
  },
  {
   "cell_type": "code",
   "execution_count": 22,
   "metadata": {},
   "outputs": [
    {
     "data": {
      "image/png": "[encoded data removed]",
      "text/plain": [
       "<Figure size 432x288 with 1 Axes>"
      ]
     },
     "metadata": {
      "needs_background": "light"
     },
     "output_type": "display_data"
    }
   ],
   "source": [
    "import sklearn.metrics as metrics\n",
    "\n",
    "naive_fpr, naive_tpr, naive_threshold = metrics.roc_curve(y_test, predictions)\n",
    "naive_roc_auc = metrics.auc(naive_fpr, naive_tpr)\n",
    "\n",
    "rnn_fpr, rnn_tpr, rnn_threshold = metrics.roc_curve(y_test, rnn_pred)\n",
    "rnn_roc_auc = metrics.auc(rnn_fpr, rnn_tpr)\n",
    "\n",
    "plt.title('Receiver Operating Characteristic')\n",
    "plt.plot(rnn_fpr, rnn_tpr, 'b', label = 'RNN Area = %0.2f' % rnn_roc_auc)\n",
    "plt.plot(naive_fpr, naive_tpr, 'r', label = 'Naive Bayes Area = %0.2f' % naive_roc_auc)\n",
    "plt.legend(loc = 'lower right')\n",
    "plt.xlim([0, 1])\n",
    "plt.ylim([0, 1])\n",
    "plt.ylabel('True Positive Rate')\n",
    "plt.xlabel('False Positive Rate')\n",
    "plt.show()\n",
    "\n"
   ]
  },
  {
   "cell_type": "markdown",
   "metadata": {},
   "source": [
    "### Reflection\n",
    "\n",
    "The steps I took in solving the problem in this project are as follows:\n",
    "  - Put together a subset of the Sentiment140 dataset with column headers\n",
    "  - Import the dataset into a dataframe. \n",
    "  - Drop all unnecessary columns from the dataframe.\n",
    "  - Split the data into test and training sets.\n",
    "  - Test the performance of a benchmark Naive Bayes model.\n",
    "  - Preprocess the tweet data in an attempt to normalize the speech and shrink the dimensionality of features\n",
    "  - Tokenize the tweet data and add padding to make all of the tweets the same length.\n",
    "  - Build an Recurrent Neural Network consisting of Embedding, LSTM, and Dense layers.\n",
    "  - Train the RNN on the twitter data using checkpoints and early stopping.\n",
    "  - Test the accuracy of the RNN model against the benchmark model.\n",
    "  \n",
    "One of the interesting things I ran into during this project was coming up with the right regular expressions to use in the data preprocessing. I wanted to remove abnormalities in the text without affecting the overall message. In cases such as punctuation, it was easy to remove all punctuation or to replace all punctuation with a space but I found that it was better to pick and choose for each case based on how that punctuation is commonly used. For example, apostrophes should simply be removed so that \"don't\" becomes \"dont\" and not \"don\" and \"t\". However, periods should be replaced with a space since it is common for people to forget to add space following it even thought the ideas are separate. If the text was something like \"okay...no thank you.\", removing the periods would leave us with \"okayno thank you\", while replacing periods with a space would give us \"okay   no thank you \". The extra space looks weird at first, but this allows the tokenizer to properly separate \"okay\" and \"no\".\n",
    "\n",
    "Coming up with the right neural network architecture proved to be somewhat difficult mainly because of the time it takes to iterate and try a new architecture. NLP tasks require a lot of data to perform well and take a long time to train. I tried to mitigate this by working on a subset of the training data when testing out different architectures and tuning parameters. Using a smaller set of data gave me lower accuracy, but I was able to compare that accuracy against the other architectures that I was testing at the same number of samples to determine what was performing better. Then applying the full data in the final run gave me the higher accuracy that I was hoping for.\n",
    "\n",
    "Overall, the model did meet my expectations for this project. After seeing the benchmark accuracy of about 78%, I was just hoping to break 80%, and ended up with an accuracy of about 82%. I think that this model can be useful to determine sentiment of short texts such as tweets of article headlines in a fairly reliable manner. The model becomes more useful when the prediction values are used alongside the predicted class. This can allow you to see exactly how confident the model is in its prediction and can help you choose to trust or ignore the output. This way, text that isn't strongly positive or negative can be filtered out or ignored.\n",
    "\n",
    "### Improvement\n",
    "\n",
    "I believe that this implementation can be improved in a number of ways. One path I didn't get a chance to explore was using transfer learning in my model. There are some popular pre-trained embeddings that have been fit to extremely large datasets such as Google's Word2Vec and Stanford's GloVe. These could potentially improve the accuracy of the model as it would have a solid starting point before training begins. I also would have liked to try out more advanced NLP techniques such as stemming or lemmatization in the preprocessing step. This could help further reduce the dimensionality of the feature set by converting words into their base form. I also think that using a cleaner dataset would help improve the accuracy. The data was compiled in a semi-automated manner, by treating smiling emoticons as positive and negative emoticons as negative. For most cases, this works out fine, but tweets commonly use incorrect emoticons to express sarcasm, so it is likely that some of the data was mislabeled. While a manually labeled dataset would be ideal, I wouldn't likely find as large a dataset. I think the sarcasm could also be mitigated by increasing the size of the dataset to a point where any sarcasm that was mislabeled becomes insignificant to the overall training."
   ]
  },
  {
   "cell_type": "code",
   "execution_count": null,
   "metadata": {},
   "outputs": [],
   "source": []
  }
 ],
 "metadata": {
  "kernelspec": {
   "display_name": "Python 3",
   "language": "python",
   "name": "python3"
  },
  "language_info": {
   "codemirror_mode": {
    "name": "ipython",
    "version": 3
   },
   "file_extension": ".py",
   "mimetype": "text/x-python",
   "name": "python",
   "nbconvert_exporter": "python",
   "pygments_lexer": "ipython3",
   "version": "3.7.3"
  }
 },
 "nbformat": 4,
 "nbformat_minor": 2
}
