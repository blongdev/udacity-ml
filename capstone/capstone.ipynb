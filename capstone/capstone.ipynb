{
 "cells": [
  {
   "cell_type": "markdown",
   "metadata": {},
   "source": [
    "# Machine Learning Engineer Nanodegree\n",
    "## Capstone Project\n",
    "Brian Long  \n",
    "November 10th, 2019"
   ]
  },
  {
   "cell_type": "markdown",
   "metadata": {},
   "source": [
    "## I. Definition\n",
    "<font color=\"red\">_(approx. 1-2 pages)_</font>\n",
    "\n",
    "### Project Overview\n",
    "<font color=\"red\">\n",
    "In this section, look to provide a high-level overview of the project in layman’s terms. Questions to ask yourself when writing this section:\n",
    "    \n",
    "- _Has an overview of the project been provided, such as the problem domain, project origin, and related datasets or input data?_\n",
    "- _Has enough background information been given so that an uninformed reader would understand the problem domain and following problem statement?_\n",
    "</font>\n",
    "\n",
    "Twitter is a micro-blogging platform where users can post short messages referred to as\n",
    "“tweets”. Tweets used to be limited to 140 characters but this limit was increased to 280\n",
    "characters in 2017. This enforced conciseness made Twitter a popular platform for\n",
    "people to quickly voice their opinion about a topic without needing to publish a\n",
    "multi-page article. Millions of people write multiple tweets every day to express their\n",
    "thoughts or opinions, both formal and informal. Twitter has become a place for friends to\n",
    "share pictures of their lunch, as well as a place for professionals to discuss emerging\n",
    "practices and technologies.\n",
    "\n",
    "The thing that interests me the most about Twitter as a social media platform is the\n",
    "frequency and openness with which people post. In many ways, a person’s twitter feed\n",
    "is like a journal of their day to day life. There is a wealth of information that seems\n",
    "almost purposefully structured for data science. For example, the use of hashtags to\n",
    "label tweets allows them to be categorized by topic without breaking up the platform into\n",
    "multiple smaller communities that are defined by that topic. Using the public Twitter API,\n",
    "developers can access data about tweets that can then be aggregated and used to\n",
    "drive business decisions across a variety of fields.\n",
    "\n",
    "Twitter stands out as a tool for sentiment analysis because the text differs heavily from\n",
    "the usual data that comes from sources such as movie reviews, product reviews, or\n",
    "news articles. These other sources are typically large bodies of text with proper\n",
    "grammar, whereas tweets are have a strict character limit which keeps them short while\n",
    "also having a very informal tone that doesn't follow grammatical convention. Twitter has\n",
    "been studied as a source of sentiment analysis in the following papers:\n",
    "\n",
    "Go, A., Bhayani, R. and Huang, L., 2009. Twitter sentiment classification using distant\n",
    "supervision. CS224N Project Report, Stanford, 1(12).\n",
    "https://cs.stanford.edu/people/alecmgo/papers/TwitterDistantSupervision09.pdf\n",
    "\n",
    "Agarwal, A., Xie, B., Vovsha, I., Rambow, O., Passonneau, R., Sentiment Analysis of\n",
    "Twitter Data. Columbia.\n",
    "http://www.cs.columbia.edu/~julia/papers/Agarwaletal11.pdf\n",
    "\n",
    "\n",
    "\n",
    "### Problem Statement\n",
    "<font color=\"red\">\n",
    "In this section, you will want to clearly define the problem that you are trying to solve, including the strategy (outline of tasks) you will use to achieve the desired solution. You should also thoroughly discuss what the intended solution will be for this problem. Questions to ask yourself when writing this section:\n",
    "    \n",
    "- _Is the problem statement clearly defined? Will the reader understand what you are expecting to solve?_\n",
    "- _Have you thoroughly discussed how you will attempt to solve the problem?_\n",
    "- _Is an anticipated solution clearly defined? Will the reader understand what results you are looking for?_\n",
    "</font>\n",
    "\n",
    "\n",
    "The information I would most like to extract from these tweets is the general sentiment\n",
    "in terms of whether it has a positive or negative tone. Sentiment analysis is a popular\n",
    "problem in the field of Natural Language Processing. The intricacies of language make\n",
    "it difficult to algorithmically extract meaning from a given body of text. While true\n",
    "sentiment contains much more complexity than can be expressed by the broad\n",
    "definitions of having a positive or negative point of view, this is still valuable information\n",
    "as it can be used to quantify the general public’s feelings towards a company, product,\n",
    "or idea.\n",
    "\n",
    "I will be attempting to create a model that can determine whether a tweet expresses a\n",
    "positive or negative sentiment. This model could eventually be used to build a tool that\n",
    "uses the Twitter API to have the sentiment evaluated for new tweets. This could further\n",
    "be used to show trends in how the general public views a given topic and leveraged to\n",
    "make business decisions.\n",
    "\n",
    "\n",
    "\n",
    "### Metrics\n",
    "<font color=\"red\">\n",
    "In this section, you will need to clearly define the metrics or calculations you will use to measure performance of a model or result in your project. These calculations and metrics should be justified based on the characteristics of the problem and problem domain. Questions to ask yourself when writing this section:\n",
    "    \n",
    "- _Are the metrics you’ve chosen to measure the performance of your models clearly discussed and defined?_\n",
    "- _Have you provided reasonable justification for the metrics chosen based on the problem and solution?_\n",
    "</font>\n",
    "\n",
    "\n",
    "The main metric I will be using to measure the benchmark and solution models will be\n",
    "accuracy. I choose to focus on accuracy over precision or recall because mislabeling a\n",
    "tweet as positive or negative has the same impact. In this instance we are not\n",
    "specifically trying to identify all positive tweets or avoid incorrectly labeling a negative\n",
    "tweet as positive, but to correctly identify as many tweets as possible, regardless of\n",
    "whether they are positive or negative. Since the target class distribution is perfectly\n",
    "balanced between positive and negative tweets, using accuracy should not be affected\n",
    "by simply favoring one choice over the other. I will also be looking at F1-score as a\n",
    "secondary metric so that precision and recall are not entirely discounted, although my\n",
    "main focus will be on improving accuracy.\n",
    "\n",
    "\n"
   ]
  },
  {
   "cell_type": "markdown",
   "metadata": {},
   "source": [
    "## II. Analysis\n",
    "<font color=\"red\">_(approx. 2-4 pages)_</font>\n",
    "\n",
    "### Data Exploration\n",
    "<font color=\"red\">\n",
    "In this section, you will be expected to analyze the data you are using for the problem. This data can either be in the form of a dataset (or datasets), input data (or input files), or even an environment. The type of data should be thoroughly described and, if possible, have basic statistics and information presented (such as discussion of input features or defining characteristics about the input or environment). Any abnormalities or interesting qualities about the data that may need to be addressed have been identified (such as features that need to be transformed or the possibility of outliers). Questions to ask yourself when writing this section:\n",
    "    \n",
    "- _If a dataset is present for this problem, have you thoroughly discussed certain features about the dataset? Has a data sample been provided to the reader?_\n",
    "- _If a dataset is present for this problem, are statistics about the dataset calculated and reported? Have any relevant results from this calculation been discussed?_\n",
    "- _If a dataset is **not** present for this problem, has discussion been made about the input space or input data for your problem?_\n",
    "- _Are there any abnormalities or characteristics about the input space or dataset that need to be addressed? (categorical variables, missing values, outliers, etc.)_\n",
    "</font>\n",
    "\n",
    "I will be using a subset of the Sentiment140 dataset to build my Twitter sentiment analysis model.\n",
    "This dataset is a collection of 1.6 million tweets that were gathered from the Twitter API\n",
    "and are labeled as positive or negative. I have cut down the dataset to 700k tweets and added column headers to the csv file included in this project.\n",
    "Since this dataset was intended for use in sentiment analysis, it was set up such that there is a perfect class balance with exactly\n",
    "50% of the training data being positive and 50% being negative. The tweets were\n",
    "labeled based on their inclusion of emoticons, with variations of smiling emoticons being\n",
    "labeled positive, and variations of frowning emoticons being labeled negative. The\n",
    "emoticons were also removed from the dataset after the sentiment labels were added.\n",
    "This dataset was put together using distant supervised learning as a way to showcase\n",
    "its viability in labeling data this way. The data was tested against Naive Bayes,\n",
    "Maximum Entropy, and Support Vector Machine models, all of which scored over 80%\n",
    "accuracy. The complete Sentiment140 dataset is available at the following link:\n",
    "\n",
    "http://help.sentiment140.com/for-students\n",
    "\n",
    "Go, A., Bhayani, R. and Huang, L., 2009. Twitter sentiment classification using distant\n",
    "supervision. CS224N Project Report, Stanford, 1(12).\n",
    "https://cs.stanford.edu/people/alecmgo/papers/TwitterDistantSupervision09.pdf"
   ]
  },
  {
   "cell_type": "markdown",
   "metadata": {},
   "source": [
    "Below, I will begin by importing the dataset and viewing a sample of the entries.\n",
    "\n",
    "The dataset contains 6 columns:\n",
    "    - sentiment: can be either 0 or 4. 0 represents a negative sentiment and 4 represents a positive sentiment.\n",
    "    - tweet_id: the id of the tweet from the Twitter API.\n",
    "    - date: the date that the tweet was posted to Twitter.\n",
    "    - query: the search term used by to find the tweet.\n",
    "    - user: the username of the person who posted the tweet.\n",
    "    - tweet: the content of the tweet that was posted to Twitter.\n",
    "    \n",
    "The 'sentiment' column represents the label we will be attempting to predict."
   ]
  },
  {
   "cell_type": "code",
   "execution_count": 1,
   "metadata": {},
   "outputs": [],
   "source": [
    "import pandas as pd\n",
    "import numpy as np\n",
    "\n",
    "pd.options.display.max_colwidth = 1000\n",
    "df = pd.read_csv(\"twitter_data_700k.csv\")"
   ]
  },
  {
   "cell_type": "code",
   "execution_count": 2,
   "metadata": {},
   "outputs": [
    {
     "data": {
      "text/html": [
       "<div>\n",
       "<style scoped>\n",
       "    .dataframe tbody tr th:only-of-type {\n",
       "        vertical-align: middle;\n",
       "    }\n",
       "\n",
       "    .dataframe tbody tr th {\n",
       "        vertical-align: top;\n",
       "    }\n",
       "\n",
       "    .dataframe thead th {\n",
       "        text-align: right;\n",
       "    }\n",
       "</style>\n",
       "<table border=\"1\" class=\"dataframe\">\n",
       "  <thead>\n",
       "    <tr style=\"text-align: right;\">\n",
       "      <th></th>\n",
       "      <th>sentiment</th>\n",
       "      <th>tweet_id</th>\n",
       "      <th>date</th>\n",
       "      <th>query</th>\n",
       "      <th>user</th>\n",
       "      <th>tweet</th>\n",
       "    </tr>\n",
       "  </thead>\n",
       "  <tbody>\n",
       "    <tr>\n",
       "      <th>0</th>\n",
       "      <td>0</td>\n",
       "      <td>1467810369</td>\n",
       "      <td>Mon Apr 06 22:19:45 PDT 2009</td>\n",
       "      <td>NO_QUERY</td>\n",
       "      <td>_TheSpecialOne_</td>\n",
       "      <td>@switchfoot http://twitpic.com/2y1zl - Awww, that's a bummer.  You shoulda got David Carr of Third Day to do it. ;D</td>\n",
       "    </tr>\n",
       "    <tr>\n",
       "      <th>1</th>\n",
       "      <td>0</td>\n",
       "      <td>1467810672</td>\n",
       "      <td>Mon Apr 06 22:19:49 PDT 2009</td>\n",
       "      <td>NO_QUERY</td>\n",
       "      <td>scotthamilton</td>\n",
       "      <td>is upset that he can't update his Facebook by texting it... and might cry as a result  School today also. Blah!</td>\n",
       "    </tr>\n",
       "    <tr>\n",
       "      <th>2</th>\n",
       "      <td>0</td>\n",
       "      <td>1467810917</td>\n",
       "      <td>Mon Apr 06 22:19:53 PDT 2009</td>\n",
       "      <td>NO_QUERY</td>\n",
       "      <td>mattycus</td>\n",
       "      <td>@Kenichan I dived many times for the ball. Managed to save 50%  The rest go out of bounds</td>\n",
       "    </tr>\n",
       "    <tr>\n",
       "      <th>3</th>\n",
       "      <td>0</td>\n",
       "      <td>1467811184</td>\n",
       "      <td>Mon Apr 06 22:19:57 PDT 2009</td>\n",
       "      <td>NO_QUERY</td>\n",
       "      <td>ElleCTF</td>\n",
       "      <td>my whole body feels itchy and like its on fire</td>\n",
       "    </tr>\n",
       "    <tr>\n",
       "      <th>4</th>\n",
       "      <td>0</td>\n",
       "      <td>1467811193</td>\n",
       "      <td>Mon Apr 06 22:19:57 PDT 2009</td>\n",
       "      <td>NO_QUERY</td>\n",
       "      <td>Karoli</td>\n",
       "      <td>@nationwideclass no, it's not behaving at all. i'm mad. why am i here? because I can't see you all over there.</td>\n",
       "    </tr>\n",
       "  </tbody>\n",
       "</table>\n",
       "</div>"
      ],
      "text/plain": [
       "   sentiment    tweet_id                          date     query  \\\n",
       "0          0  1467810369  Mon Apr 06 22:19:45 PDT 2009  NO_QUERY   \n",
       "1          0  1467810672  Mon Apr 06 22:19:49 PDT 2009  NO_QUERY   \n",
       "2          0  1467810917  Mon Apr 06 22:19:53 PDT 2009  NO_QUERY   \n",
       "3          0  1467811184  Mon Apr 06 22:19:57 PDT 2009  NO_QUERY   \n",
       "4          0  1467811193  Mon Apr 06 22:19:57 PDT 2009  NO_QUERY   \n",
       "\n",
       "              user  \\\n",
       "0  _TheSpecialOne_   \n",
       "1    scotthamilton   \n",
       "2         mattycus   \n",
       "3          ElleCTF   \n",
       "4           Karoli   \n",
       "\n",
       "                                                                                                                 tweet  \n",
       "0  @switchfoot http://twitpic.com/2y1zl - Awww, that's a bummer.  You shoulda got David Carr of Third Day to do it. ;D  \n",
       "1      is upset that he can't update his Facebook by texting it... and might cry as a result  School today also. Blah!  \n",
       "2                            @Kenichan I dived many times for the ball. Managed to save 50%  The rest go out of bounds  \n",
       "3                                                                      my whole body feels itchy and like its on fire   \n",
       "4      @nationwideclass no, it's not behaving at all. i'm mad. why am i here? because I can't see you all over there.   "
      ]
     },
     "execution_count": 2,
     "metadata": {},
     "output_type": "execute_result"
    }
   ],
   "source": [
    "df.head()"
   ]
  },
  {
   "cell_type": "markdown",
   "metadata": {},
   "source": [
    "In the 'sentiment' column above, all of the values appear to be 0, indicating that the sentiment is negative. This is because the data is organized in such that the first half of the dataset is negative and the second half is positive. This can be seen further by examining the tail of the dataset."
   ]
  },
  {
   "cell_type": "code",
   "execution_count": 3,
   "metadata": {},
   "outputs": [
    {
     "data": {
      "text/html": [
       "<div>\n",
       "<style scoped>\n",
       "    .dataframe tbody tr th:only-of-type {\n",
       "        vertical-align: middle;\n",
       "    }\n",
       "\n",
       "    .dataframe tbody tr th {\n",
       "        vertical-align: top;\n",
       "    }\n",
       "\n",
       "    .dataframe thead th {\n",
       "        text-align: right;\n",
       "    }\n",
       "</style>\n",
       "<table border=\"1\" class=\"dataframe\">\n",
       "  <thead>\n",
       "    <tr style=\"text-align: right;\">\n",
       "      <th></th>\n",
       "      <th>sentiment</th>\n",
       "      <th>tweet_id</th>\n",
       "      <th>date</th>\n",
       "      <th>query</th>\n",
       "      <th>user</th>\n",
       "      <th>tweet</th>\n",
       "    </tr>\n",
       "  </thead>\n",
       "  <tbody>\n",
       "    <tr>\n",
       "      <th>699995</th>\n",
       "      <td>4</td>\n",
       "      <td>2193601966</td>\n",
       "      <td>Tue Jun 16 08:40:49 PDT 2009</td>\n",
       "      <td>NO_QUERY</td>\n",
       "      <td>AmandaMarie1028</td>\n",
       "      <td>Just woke up. Having no school is the best feeling ever</td>\n",
       "    </tr>\n",
       "    <tr>\n",
       "      <th>699996</th>\n",
       "      <td>4</td>\n",
       "      <td>2193601969</td>\n",
       "      <td>Tue Jun 16 08:40:49 PDT 2009</td>\n",
       "      <td>NO_QUERY</td>\n",
       "      <td>TheWDBoards</td>\n",
       "      <td>TheWDB.com - Very cool to hear old Walt interviews!  ♫ http://blip.fm/~8bmta</td>\n",
       "    </tr>\n",
       "    <tr>\n",
       "      <th>699997</th>\n",
       "      <td>4</td>\n",
       "      <td>2193601991</td>\n",
       "      <td>Tue Jun 16 08:40:49 PDT 2009</td>\n",
       "      <td>NO_QUERY</td>\n",
       "      <td>bpbabe</td>\n",
       "      <td>Are you ready for your MoJo Makeover? Ask me for details</td>\n",
       "    </tr>\n",
       "    <tr>\n",
       "      <th>699998</th>\n",
       "      <td>4</td>\n",
       "      <td>2193602064</td>\n",
       "      <td>Tue Jun 16 08:40:49 PDT 2009</td>\n",
       "      <td>NO_QUERY</td>\n",
       "      <td>tinydiamondz</td>\n",
       "      <td>Happy 38th Birthday to my boo of alll time!!! Tupac Amaru Shakur</td>\n",
       "    </tr>\n",
       "    <tr>\n",
       "      <th>699999</th>\n",
       "      <td>4</td>\n",
       "      <td>2193602129</td>\n",
       "      <td>Tue Jun 16 08:40:50 PDT 2009</td>\n",
       "      <td>NO_QUERY</td>\n",
       "      <td>RyanTrevMorris</td>\n",
       "      <td>happy #charitytuesday @theNSPCC @SparksCharity @SpeakingUpH4H</td>\n",
       "    </tr>\n",
       "  </tbody>\n",
       "</table>\n",
       "</div>"
      ],
      "text/plain": [
       "        sentiment    tweet_id                          date     query  \\\n",
       "699995          4  2193601966  Tue Jun 16 08:40:49 PDT 2009  NO_QUERY   \n",
       "699996          4  2193601969  Tue Jun 16 08:40:49 PDT 2009  NO_QUERY   \n",
       "699997          4  2193601991  Tue Jun 16 08:40:49 PDT 2009  NO_QUERY   \n",
       "699998          4  2193602064  Tue Jun 16 08:40:49 PDT 2009  NO_QUERY   \n",
       "699999          4  2193602129  Tue Jun 16 08:40:50 PDT 2009  NO_QUERY   \n",
       "\n",
       "                   user  \\\n",
       "699995  AmandaMarie1028   \n",
       "699996      TheWDBoards   \n",
       "699997           bpbabe   \n",
       "699998     tinydiamondz   \n",
       "699999   RyanTrevMorris   \n",
       "\n",
       "                                                                               tweet  \n",
       "699995                      Just woke up. Having no school is the best feeling ever   \n",
       "699996  TheWDB.com - Very cool to hear old Walt interviews!  ♫ http://blip.fm/~8bmta  \n",
       "699997                     Are you ready for your MoJo Makeover? Ask me for details   \n",
       "699998             Happy 38th Birthday to my boo of alll time!!! Tupac Amaru Shakur   \n",
       "699999                happy #charitytuesday @theNSPCC @SparksCharity @SpeakingUpH4H   "
      ]
     },
     "execution_count": 3,
     "metadata": {},
     "output_type": "execute_result"
    }
   ],
   "source": [
    "df.tail()"
   ]
  },
  {
   "cell_type": "markdown",
   "metadata": {},
   "source": [
    "Since the data is organized this way, I will want to shuffle it before training the model. A better representation of the data distribution can be seen by calling sample() on our dataset.  The columns 'tweet_id', 'date', 'query', and 'user' were included in this dataset, but aren't particularly useful in determining the sentiment of the tweet. The 'tweet' column is the only feature I will be focusing on. I dropped the unnecessary features and sample the dataset below.\n"
   ]
  },
  {
   "cell_type": "code",
   "execution_count": 4,
   "metadata": {},
   "outputs": [
    {
     "data": {
      "text/html": [
       "<div>\n",
       "<style scoped>\n",
       "    .dataframe tbody tr th:only-of-type {\n",
       "        vertical-align: middle;\n",
       "    }\n",
       "\n",
       "    .dataframe tbody tr th {\n",
       "        vertical-align: top;\n",
       "    }\n",
       "\n",
       "    .dataframe thead th {\n",
       "        text-align: right;\n",
       "    }\n",
       "</style>\n",
       "<table border=\"1\" class=\"dataframe\">\n",
       "  <thead>\n",
       "    <tr style=\"text-align: right;\">\n",
       "      <th></th>\n",
       "      <th>sentiment</th>\n",
       "      <th>tweet</th>\n",
       "    </tr>\n",
       "  </thead>\n",
       "  <tbody>\n",
       "    <tr>\n",
       "      <th>528787</th>\n",
       "      <td>4</td>\n",
       "      <td>I'm going for Mac Donald's breakfast now! Envious people?</td>\n",
       "    </tr>\n",
       "    <tr>\n",
       "      <th>468704</th>\n",
       "      <td>4</td>\n",
       "      <td>@skitzot I heart Hickory House</td>\n",
       "    </tr>\n",
       "    <tr>\n",
       "      <th>28538</th>\n",
       "      <td>0</td>\n",
       "      <td>just woke up ... tryin to get motivated very hard rigth now .... gettin readi to do the hair n eat cant wait ...  school tomorow .....</td>\n",
       "    </tr>\n",
       "    <tr>\n",
       "      <th>603158</th>\n",
       "      <td>4</td>\n",
       "      <td>Now he aint got shit to say  im finna put my pussy all n his face frm all dat shit he beene talkn !</td>\n",
       "    </tr>\n",
       "    <tr>\n",
       "      <th>178184</th>\n",
       "      <td>0</td>\n",
       "      <td>of course im almost there and theres traffic</td>\n",
       "    </tr>\n",
       "    <tr>\n",
       "      <th>346402</th>\n",
       "      <td>0</td>\n",
       "      <td>@Tattooed_Mummy It's a shame that there is no one inspiring enough not to get the vote based on them Not being the BNP   #theBNPareTwats</td>\n",
       "    </tr>\n",
       "    <tr>\n",
       "      <th>370558</th>\n",
       "      <td>4</td>\n",
       "      <td>@lesliesinks lmao I know</td>\n",
       "    </tr>\n",
       "    <tr>\n",
       "      <th>133851</th>\n",
       "      <td>0</td>\n",
       "      <td>@chevalierkun I don't know what to say about anime on free TV. It's good, but I hate how it aired with bad subs and changing schedule</td>\n",
       "    </tr>\n",
       "    <tr>\n",
       "      <th>208234</th>\n",
       "      <td>0</td>\n",
       "      <td>I didn't get the trip letter...   @riddlingsaulie @purity_of_arms</td>\n",
       "    </tr>\n",
       "    <tr>\n",
       "      <th>413081</th>\n",
       "      <td>4</td>\n",
       "      <td>is taking the last step to move on once and for all</td>\n",
       "    </tr>\n",
       "  </tbody>\n",
       "</table>\n",
       "</div>"
      ],
      "text/plain": [
       "        sentiment  \\\n",
       "528787          4   \n",
       "468704          4   \n",
       "28538           0   \n",
       "603158          4   \n",
       "178184          0   \n",
       "346402          0   \n",
       "370558          4   \n",
       "133851          0   \n",
       "208234          0   \n",
       "413081          4   \n",
       "\n",
       "                                                                                                                                           tweet  \n",
       "528787                                                                                I'm going for Mac Donald's breakfast now! Envious people?   \n",
       "468704                                                                                                           @skitzot I heart Hickory House   \n",
       "28538     just woke up ... tryin to get motivated very hard rigth now .... gettin readi to do the hair n eat cant wait ...  school tomorow .....  \n",
       "603158                                       Now he aint got shit to say  im finna put my pussy all n his face frm all dat shit he beene talkn !  \n",
       "178184                                                                                             of course im almost there and theres traffic   \n",
       "346402  @Tattooed_Mummy It's a shame that there is no one inspiring enough not to get the vote based on them Not being the BNP   #theBNPareTwats  \n",
       "370558                                                                                                                 @lesliesinks lmao I know   \n",
       "133851    @chevalierkun I don't know what to say about anime on free TV. It's good, but I hate how it aired with bad subs and changing schedule   \n",
       "208234                                                                         I didn't get the trip letter...   @riddlingsaulie @purity_of_arms  \n",
       "413081                                                                                      is taking the last step to move on once and for all   "
      ]
     },
     "execution_count": 4,
     "metadata": {},
     "output_type": "execute_result"
    }
   ],
   "source": [
    "df.drop([\"tweet_id\", \"date\", \"query\", \"user\"], axis=1, inplace=True)\n",
    "df.sample(10)"
   ]
  },
  {
   "cell_type": "markdown",
   "metadata": {},
   "source": [
    "As there are only 2 values representing sentiment, I should change that label to be either a 0 or 1 rather than using 4 for the positive sentiment. The tweet content also contains a lot of information that likely won't be useful in determining sentiment, such as usernames and urls. Another challenge will be the informality of speech used. Words are often exaggerated by repeating letters, words are misspelled, and sarcasm is common."
   ]
  },
  {
   "cell_type": "markdown",
   "metadata": {},
   "source": [
    "### Exploratory Visualization\n",
    "<font color=\"red\">\n",
    "In this section, you will need to provide some form of visualization that summarizes or extracts a relevant characteristic or feature about the data. The visualization should adequately support the data being used. Discuss why this visualization was chosen and how it is relevant. Questions to ask yourself when writing this section:\n",
    "    \n",
    "- _Have you visualized a relevant characteristic or feature about the dataset or input data?_\n",
    "- _Is the visualization thoroughly analyzed and discussed?_\n",
    "- _If a plot is provided, are the axes, title, and datum clearly defined?_\n",
    "</font>\n",
    "\n",
    "\n",
    "\n",
    "The bar graph below shows the perfect class balance of the dataset with the positive and negative tweets each having 350,000 instances."
   ]
  },
  {
   "cell_type": "code",
   "execution_count": 19,
   "metadata": {},
   "outputs": [
    {
     "data": {
      "image/png": "[encoded data removed]",
      "text/plain": [
       "<Figure size 432x288 with 1 Axes>"
      ]
     },
     "metadata": {
      "needs_background": "light"
     },
     "output_type": "display_data"
    },
    {
     "name": "stdout",
     "output_type": "stream",
     "text": [
      "Positive Tweets: 350000\n",
      "Negative Tweets: 350000\n"
     ]
    }
   ],
   "source": [
    "import matplotlib.pyplot as plt\n",
    "%matplotlib inline\n",
    "\n",
    "pos = len(df.loc[df[\"sentiment\"] == 4])\n",
    "neg = len(df.loc[df[\"sentiment\"] == 0])\n",
    "\n",
    "labels = [\"Positive\", \"Negative\"]\n",
    "values = [pos, neg]\n",
    "\n",
    "index = np.arange(len(labels))\n",
    "\n",
    "plt.title(\"Twitter Sentiment Data\")\n",
    "plt.xlabel(\"Sentiment\")\n",
    "plt.xticks(index, labels)\n",
    "plt.bar(index, values)\n",
    "plt.show()\n",
    "\n",
    "print(f\"Positive Tweets: {pos}\")\n",
    "print(f\"Negative Tweets: {neg}\")\n"
   ]
  },
  {
   "cell_type": "markdown",
   "metadata": {},
   "source": [
    "Below I show the character counts across the tweet data. The original 140 character limit is shown clearly here, with a few instances using a couple more characters which must be after the update to allow 280 characters. It seems to be a somewhat level distribution after about 15 characters, with a large number of tweets being \"short and sweet\" at around 25-50 characters, followed but a slight dip until a spike in tweets right near the character limit."
   ]
  },
  {
   "cell_type": "code",
   "execution_count": 52,
   "metadata": {},
   "outputs": [
    {
     "data": {
      "image/png": "[encoded data removed]",
      "text/plain": [
       "<Figure size 1152x288 with 1 Axes>"
      ]
     },
     "metadata": {
      "needs_background": "light"
     },
     "output_type": "display_data"
    }
   ],
   "source": [
    "char_count = df[\"tweet\"].apply(lambda x: len(x))\n",
    "char_dict = char_count.groupby(char_count).count().to_dict()\n",
    "\n",
    "index = np.arange(len(char_dict))\n",
    "\n",
    "plt.figure(figsize=(16,4))\n",
    "plt.title(\"Tweet Character Count\")\n",
    "plt.xlabel(\"Characters\")\n",
    "plt.ylabel(\"Tweets\")\n",
    "plt.bar(index, char_dict.values())\n",
    "plt.show()\n"
   ]
  },
  {
   "cell_type": "markdown",
   "metadata": {},
   "source": [
    "Next, I will look at the word count in these tweets. While this does relate closely to the character count, we get additional information here which can be useful in future steps when we will need to tokenize and pad the tweets to all be the same length. It appears that most tweets contain around 5 to 10 words. The number of tweets then trail off and don't seem to extend beyond 35 words."
   ]
  },
  {
   "cell_type": "code",
   "execution_count": 53,
   "metadata": {},
   "outputs": [
    {
     "data": {
      "image/png": "[encoded data removed]",
      "text/plain": [
       "<Figure size 1152x288 with 1 Axes>"
      ]
     },
     "metadata": {
      "needs_background": "light"
     },
     "output_type": "display_data"
    }
   ],
   "source": [
    "word_count = df[\"tweet\"].apply(lambda x: len(x.split()))\n",
    "word_dict = char_count.groupby(word_count).count().to_dict()\n",
    "\n",
    "index = np.arange(len(word_dict))\n",
    "\n",
    "plt.figure(figsize=(16,4))\n",
    "plt.title(\"Tweet Word Count\")\n",
    "plt.xlabel(\"Words\")\n",
    "plt.ylabel(\"Tweets\")\n",
    "plt.bar(index, word_dict.values())\n",
    "plt.show()\n"
   ]
  },
  {
   "cell_type": "markdown",
   "metadata": {},
   "source": [
    "### Algorithms and Techniques\n",
    "<font color=\"red\">\n",
    "In this section, you will need to discuss the algorithms and techniques you intend to use for solving the problem. You should justify the use of each one based on the characteristics of the problem and the problem domain. Questions to ask yourself when writing this section:\n",
    "    \n",
    "- _Are the algorithms you will use, including any default variables/parameters in the project clearly defined?_\n",
    "- _Are the techniques to be used thoroughly discussed and justified?_\n",
    "- _Is it made clear how the input data or datasets will be handled by the algorithms and techniques chosen?_\n",
    "</font>\n",
    "\n",
    "\n",
    "I intend to use a Recurrent Neural Network (RNN) as a classifier for the sentiment of the tweets. RNN's, and in particular Long Short-Term Memory networks (LSTMs), have gained popularity as a tool for natural language processing tasks because they have the ability to understand a sentence as a sequence of words rather than a random jumbling of words. RNN's do this by maintaining the state of its previous outputs to use as input in the next step. This leads to a sophistication of understanding that other \"bag-of-words\" models can't achieve. For example, given the text \"My team did not win\", a bag-of-words model might see the word \"win\" and predict that the text is positive, where a RNN might notice the negation in \"did not win\" and be able to predict that the text is negative.\n",
    "\n",
    "I plan to do some preprocessing on the tweet content to try to normalize the text, as the informal and concise nature of Twitter leads to some very creative spelling and grammar. This will mostly involve removing text that doesn't seem useful in determining the sentiment of the tweet. \n",
    "\n",
    "After the text content has gone through preprocessing. I will train an LSTM network on the data using an embedding layer as the input. The embedding layer is used to create word vector representations and is more efficient than using one-hot encoding as they can lead to a huge amount of features that are mostly 0's.\n"
   ]
  },
  {
   "cell_type": "markdown",
   "metadata": {},
   "source": [
    "### Benchmark\n",
    "<font color=\"red\">\n",
    "In this section, you will need to provide a clearly defined benchmark result or threshold for comparing across performances obtained by your solution. The reasoning behind the benchmark (in the case where it is not an established result) should be discussed. Questions to ask yourself when writing this section:\n",
    "    \n",
    "- _Has some result or value been provided that acts as a benchmark for measuring performance?_\n",
    "- _Is it clear how this result or value was obtained (whether by data or by hypothesis)?_\n",
    "</font>\n",
    "\n",
    "\n",
    "I will be using a Naive Bayes model with a Bag of Words approach as my benchmark\n",
    "model. Naive Bayes is often used as a benchmark in Natural Language Processing\n",
    "problems since the implementation is simple but fairly effective. This model will then be\n",
    "tested for accuracy in terms of how many tweets were correctly identified as positive or\n",
    "negative.\n",
    "\n",
    "Before testing the benchmark model, I first separate the data into labels and features. The labels will be the sentiment, which I will also run through a mapping function to convert all of the 4's into 1's. The feature set will consist of only the tweet content. I then split the dataset into training and testing subsets using scikit-learn's train_test_split."
   ]
  },
  {
   "cell_type": "code",
   "execution_count": 5,
   "metadata": {},
   "outputs": [],
   "source": [
    "from sklearn.model_selection import train_test_split\n",
    "\n",
    "y = df['sentiment'].map({0: 0, 4: 1}) # here I am mapping the labels to be 0 and 1 rather than 0 and 4\n",
    "X = df.drop(['sentiment'], axis=1)\n",
    "X_train, X_test, y_train, y_test = train_test_split(X, y, test_size=.25, random_state=42)"
   ]
  },
  {
   "cell_type": "markdown",
   "metadata": {},
   "source": [
    "I will tokenize the tweet content using a CountVectorizer. This will keep track of the number of times each feature/word appears in a given instance. A Naive Bayes model is then fit to the training data before predicting the sentiment class of the test data."
   ]
  },
  {
   "cell_type": "code",
   "execution_count": 6,
   "metadata": {},
   "outputs": [],
   "source": [
    "from sklearn.feature_extraction.text import CountVectorizer\n",
    "\n",
    "count_vector = CountVectorizer()\n",
    "\n",
    "train_vector = count_vector.fit_transform(X_train['tweet'])\n",
    "test_vector = count_vector.transform(X_test['tweet'])"
   ]
  },
  {
   "cell_type": "code",
   "execution_count": 7,
   "metadata": {},
   "outputs": [
    {
     "data": {
      "text/plain": [
       "MultinomialNB(alpha=1.0, class_prior=None, fit_prior=True)"
      ]
     },
     "execution_count": 7,
     "metadata": {},
     "output_type": "execute_result"
    }
   ],
   "source": [
    "from sklearn.naive_bayes import MultinomialNB\n",
    "naive_bayes = MultinomialNB()\n",
    "naive_bayes.fit(train_vector, y_train)"
   ]
  },
  {
   "cell_type": "code",
   "execution_count": 8,
   "metadata": {},
   "outputs": [],
   "source": [
    "predictions = naive_bayes.predict(test_vector)"
   ]
  },
  {
   "cell_type": "code",
   "execution_count": 9,
   "metadata": {},
   "outputs": [
    {
     "name": "stdout",
     "output_type": "stream",
     "text": [
      "[[72530 14882]\n",
      " [23765 63823]]\n",
      "              precision    recall  f1-score   support\n",
      "\n",
      "           0       0.75      0.83      0.79     87412\n",
      "           1       0.81      0.73      0.77     87588\n",
      "\n",
      "   micro avg       0.78      0.78      0.78    175000\n",
      "   macro avg       0.78      0.78      0.78    175000\n",
      "weighted avg       0.78      0.78      0.78    175000\n",
      "\n",
      "0.77916\n"
     ]
    }
   ],
   "source": [
    "from sklearn.metrics import classification_report, confusion_matrix, accuracy_score\n",
    "\n",
    "print(confusion_matrix(y_test,predictions))\n",
    "print(classification_report(y_test,predictions))\n",
    "print(accuracy_score(y_test, predictions))"
   ]
  },
  {
   "cell_type": "markdown",
   "metadata": {},
   "source": []
  },
  {
   "cell_type": "markdown",
   "metadata": {},
   "source": [
    "## III. Methodology\n",
    "<font color=\"red\">_(approx. 3-5 pages)_</font>\n",
    "\n",
    "### Data Preprocessing\n",
    "<font color=\"red\">\n",
    "In this section, all of your preprocessing steps will need to be clearly documented, if any were necessary. From the previous section, any of the abnormalities or characteristics that you identified about the dataset will be addressed and corrected here. Questions to ask yourself when writing this section:\n",
    "    \n",
    "- _If the algorithms chosen require preprocessing steps like feature selection or feature transformations, have they been properly documented?_\n",
    "- _Based on the **Data Exploration** section, if there were abnormalities or characteristics that needed to be addressed, have they been properly corrected?_\n",
    "- _If no preprocessing is needed, has it been made clear why?_\n",
    "</font>\n",
    "\n",
    "The labels were already altered in the benchmarking step to have positive tweets labeled with a 1 rather than a 4, but the tweet content will still need a good amount of preprocessing due to the informal nature of the tweets. I will apply a series text substitutions using regular expressions to make the tweets a little more uniform and to remove unnecessary information to reduce the dimensionality of the feature set. \n",
    "\n",
    "First, all characters will be converted lowercase. Usernames int the format @user and hashtags in the format #tag will be removed as these can often refer to a subject but do not a sentiment. Urls are removed as they may link to relevant information, but don't carry that information in url form. Repeated letters are reduced down to only repeating the letter twice so that words like \"hellooooo\" and \"hellllooooo\" would both map to \"helloo\". While this is not ideal, as they should map to \"hello\", some repeated letters are valid, such as the \"ll\" in \"hello\", so reducing all repeated characters to a single character would have its own problems. Punctuation that is used to break up a thought, such as a comma, period, or exclamation point, is replaced with a space since it is common to forget to add that space and simply removing it could combine the two words around it. Other punctuation, such as an apostrophe, is simply removed to combine the letters in contractions rather than treating them as separate words, for example \"don't\" will be \"dont\" instead of \"don\" and \"t\". Finally all words with less than 3 characters are removed to get rid of filler words that dont add much to a sentence like \"as\" or \"of\". \n",
    "\n",
    "This cleans up the tweet content by a significant amount, but the informal speech will still have some issues that are harder to detect and fix such as sarcasm."
   ]
  },
  {
   "cell_type": "code",
   "execution_count": 10,
   "metadata": {},
   "outputs": [],
   "source": [
    "import re\n",
    "\n",
    "def processTweet(tweet):\n",
    "    tweet = tweet.lower() # lowercase\n",
    "    tweet = re.sub(\"[@|#]\\w+\\S\",\"\", tweet) # remove @usernames and #hashtags\n",
    "    tweet = re.sub(\"http[s]?://[\\S]+\", '', tweet) # remove urls \n",
    "    tweet = re.sub(r\"(.)\\1\\1+\",r\"\\1\\1\", tweet) # remove letters that repeat more than 2 times\n",
    "    tweet = re.sub('[!&()+,-./:;<=>?[\\\\]_{|}~]', ' ',tweet) # replace certain punctuation with a space \n",
    "    tweet = re.sub('[!\"#$%&\\'()*+,-./:;<=>?@[\\\\]^_`{|}~]', '',tweet) # remove remaining punctuation\n",
    "    tweet = re.sub(r'\\b\\w{1,2}\\b', '', tweet) # remove words that are less than 3 characters\n",
    "    return tweet"
   ]
  },
  {
   "cell_type": "code",
   "execution_count": 11,
   "metadata": {},
   "outputs": [
    {
     "data": {
      "text/html": [
       "<div>\n",
       "<style scoped>\n",
       "    .dataframe tbody tr th:only-of-type {\n",
       "        vertical-align: middle;\n",
       "    }\n",
       "\n",
       "    .dataframe tbody tr th {\n",
       "        vertical-align: top;\n",
       "    }\n",
       "\n",
       "    .dataframe thead th {\n",
       "        text-align: right;\n",
       "    }\n",
       "</style>\n",
       "<table border=\"1\" class=\"dataframe\">\n",
       "  <thead>\n",
       "    <tr style=\"text-align: right;\">\n",
       "      <th></th>\n",
       "      <th>sentiment</th>\n",
       "      <th>tweet</th>\n",
       "    </tr>\n",
       "  </thead>\n",
       "  <tbody>\n",
       "    <tr>\n",
       "      <th>0</th>\n",
       "      <td>0</td>\n",
       "      <td>aww  thats  bummer   you shoulda got david carr  third day</td>\n",
       "    </tr>\n",
       "    <tr>\n",
       "      <th>1</th>\n",
       "      <td>0</td>\n",
       "      <td>upset that  cant update his facebook  texting    and might cry   result  school today also  blah</td>\n",
       "    </tr>\n",
       "    <tr>\n",
       "      <th>2</th>\n",
       "      <td>0</td>\n",
       "      <td>dived many times for the ball  managed  save   the rest  out  bounds</td>\n",
       "    </tr>\n",
       "    <tr>\n",
       "      <th>3</th>\n",
       "      <td>0</td>\n",
       "      <td>whole body feels itchy and like its  fire</td>\n",
       "    </tr>\n",
       "    <tr>\n",
       "      <th>4</th>\n",
       "      <td>0</td>\n",
       "      <td>its not behaving  all   mad  why   here  because  cant see you all over there</td>\n",
       "    </tr>\n",
       "  </tbody>\n",
       "</table>\n",
       "</div>"
      ],
      "text/plain": [
       "   sentiment  \\\n",
       "0          0   \n",
       "1          0   \n",
       "2          0   \n",
       "3          0   \n",
       "4          0   \n",
       "\n",
       "                                                                                                tweet  \n",
       "0                                    aww  thats  bummer   you shoulda got david carr  third day        \n",
       "1   upset that  cant update his facebook  texting    and might cry   result  school today also  blah   \n",
       "2                                dived many times for the ball  managed  save   the rest  out  bounds  \n",
       "3                                                          whole body feels itchy and like its  fire   \n",
       "4                     its not behaving  all   mad  why   here  because  cant see you all over there    "
      ]
     },
     "execution_count": 11,
     "metadata": {},
     "output_type": "execute_result"
    }
   ],
   "source": [
    "df['tweet'] = df['tweet'].map(lambda tweet: processTweet(tweet))\n",
    "\n",
    "df.head()"
   ]
  },
  {
   "cell_type": "markdown",
   "metadata": {},
   "source": [
    "### Implementation\n",
    "<font color=\"red\">\n",
    "In this section, the process for which metrics, algorithms, and techniques that you implemented for the given data will need to be clearly documented. It should be abundantly clear how the implementation was carried out, and discussion should be made regarding any complications that occurred during this process. Questions to ask yourself when writing this section:\n",
    "    \n",
    "- _Is it made clear how the algorithms and techniques were implemented with the given datasets or input data?_\n",
    "- _Were there any complications with the original metrics or techniques that required changing prior to acquiring a solution?_\n",
    "- _Was there any part of the coding process (e.g., writing complicated functions) that should be documented?_\n",
    "</font>\n",
    "\n",
    "\n",
    "\n",
    "I first run the data through a tokenizer so that the sentences are broken down into sequences. A maximum vocabulary size is used so that less important features are discarded. After the tweets are tokenized, I add padding to the shorter sequences to ensure that they will all be the same length to be fed into the neural network. I decided that the maximum length should be 35 based on the word count graph in the Exploratory Visualization section."
   ]
  },
  {
   "cell_type": "code",
   "execution_count": 12,
   "metadata": {},
   "outputs": [
    {
     "name": "stderr",
     "output_type": "stream",
     "text": [
      "Using TensorFlow backend.\n"
     ]
    }
   ],
   "source": [
    "from keras.preprocessing import sequence, text\n",
    "from keras.utils import to_categorical\n",
    "\n",
    "from sklearn.feature_extraction.text import TfidfVectorizer\n",
    "\n",
    "vocabulary_size = 20000\n",
    "\n",
    "tokenizer = text.Tokenizer(num_words=vocabulary_size)\n",
    "tokenizer.fit_on_texts(X_train['tweet'])\n",
    "\n",
    "train_token = tokenizer.texts_to_sequences(X_train['tweet'])\n",
    "test_token = tokenizer.texts_to_sequences(X_test['tweet'])\n",
    "\n",
    "max_words = 35\n",
    "train_padded = sequence.pad_sequences(train_token, maxlen=max_words)\n",
    "test_padded = sequence.pad_sequences(test_token, maxlen=max_words)"
   ]
  },
  {
   "cell_type": "markdown",
   "metadata": {},
   "source": [
    "After the input data is prepared, I define the architecture for the neural network. I will use an embedding layer layer as input, with the input dimensions being equal to the vocabulary size. The input length of each sequence will be max_words which is the length of all of the sequences after padding. The output dimension of the embedding layer will be 32, which is a number I found through trial and error. This will then feed into an LSTM layer, which will have a dropout rate of 0.5 to prevent overfitting. The output of the LSTM layer will go into a Fully-Connected layer which will determine the final prediction using a sigmoid activation function. The summary can be seen below."
   ]
  },
  {
   "cell_type": "code",
   "execution_count": 13,
   "metadata": {
    "scrolled": true
   },
   "outputs": [
    {
     "name": "stderr",
     "output_type": "stream",
     "text": [
      "WARNING: Logging before flag parsing goes to stderr.\n",
      "W1109 10:22:00.889613 140057212016384 deprecation_wrapper.py:119] From /home/blong/anaconda3/lib/python3.7/site-packages/keras/backend/tensorflow_backend.py:74: The name tf.get_default_graph is deprecated. Please use tf.compat.v1.get_default_graph instead.\n",
      "\n",
      "W1109 10:22:00.905909 140057212016384 deprecation_wrapper.py:119] From /home/blong/anaconda3/lib/python3.7/site-packages/keras/backend/tensorflow_backend.py:517: The name tf.placeholder is deprecated. Please use tf.compat.v1.placeholder instead.\n",
      "\n",
      "W1109 10:22:00.908086 140057212016384 deprecation_wrapper.py:119] From /home/blong/anaconda3/lib/python3.7/site-packages/keras/backend/tensorflow_backend.py:4138: The name tf.random_uniform is deprecated. Please use tf.random.uniform instead.\n",
      "\n",
      "W1109 10:22:00.983535 140057212016384 deprecation_wrapper.py:119] From /home/blong/anaconda3/lib/python3.7/site-packages/keras/backend/tensorflow_backend.py:133: The name tf.placeholder_with_default is deprecated. Please use tf.compat.v1.placeholder_with_default instead.\n",
      "\n",
      "W1109 10:22:00.989765 140057212016384 deprecation.py:506] From /home/blong/anaconda3/lib/python3.7/site-packages/keras/backend/tensorflow_backend.py:3445: calling dropout (from tensorflow.python.ops.nn_ops) with keep_prob is deprecated and will be removed in a future version.\n",
      "Instructions for updating:\n",
      "Please use `rate` instead of `keep_prob`. Rate should be set to `rate = 1 - keep_prob`.\n"
     ]
    },
    {
     "name": "stdout",
     "output_type": "stream",
     "text": [
      "_________________________________________________________________\n",
      "Layer (type)                 Output Shape              Param #   \n",
      "=================================================================\n",
      "embedding_1 (Embedding)      (None, 50, 32)            640000    \n",
      "_________________________________________________________________\n",
      "lstm_1 (LSTM)                (None, 32)                8320      \n",
      "_________________________________________________________________\n",
      "dense_1 (Dense)              (None, 1)                 33        \n",
      "=================================================================\n",
      "Total params: 648,353\n",
      "Trainable params: 648,353\n",
      "Non-trainable params: 0\n",
      "_________________________________________________________________\n",
      "None\n"
     ]
    }
   ],
   "source": [
    "from keras import Sequential\n",
    "from keras.layers import Embedding, LSTM, Dense, Dropout, Activation\n",
    "\n",
    "embedding_size=32\n",
    "\n",
    "model = Sequential()\n",
    "model.add(Embedding(vocabulary_size, embedding_size, input_length=max_words))\n",
    "model.add(LSTM(32, dropout=0.5))\n",
    "model.add(Dense(1, activation='sigmoid'))\n",
    "\n",
    "print(model.summary())\n"
   ]
  },
  {
   "cell_type": "code",
   "execution_count": 14,
   "metadata": {},
   "outputs": [
    {
     "name": "stderr",
     "output_type": "stream",
     "text": [
      "W1109 10:22:01.181432 140057212016384 deprecation_wrapper.py:119] From /home/blong/anaconda3/lib/python3.7/site-packages/keras/optimizers.py:790: The name tf.train.Optimizer is deprecated. Please use tf.compat.v1.train.Optimizer instead.\n",
      "\n",
      "W1109 10:22:01.198382 140057212016384 deprecation_wrapper.py:119] From /home/blong/anaconda3/lib/python3.7/site-packages/keras/backend/tensorflow_backend.py:3376: The name tf.log is deprecated. Please use tf.math.log instead.\n",
      "\n",
      "W1109 10:22:01.207900 140057212016384 deprecation.py:323] From /home/blong/anaconda3/lib/python3.7/site-packages/tensorflow/python/ops/nn_impl.py:180: add_dispatch_support.<locals>.wrapper (from tensorflow.python.ops.array_ops) is deprecated and will be removed in a future version.\n",
      "Instructions for updating:\n",
      "Use tf.where in 2.0, which has the same broadcast rule as np.where\n"
     ]
    }
   ],
   "source": [
    "loss_func = 'binary_crossentropy'\n",
    "\n",
    "model.compile(loss=loss_func, \n",
    "             optimizer='adam', \n",
    "             metrics=['accuracy'])"
   ]
  },
  {
   "cell_type": "markdown",
   "metadata": {},
   "source": [
    "Since there are only two classes as output, positive (1) and negative (0), binary crossentropy will be used as the loss function when compiling the model.\n",
    "\n",
    "When training the model, I will use two callbacks, ModelCheckpoint for saving the best performing model during training, and EarlyStopping to prevent the training from continuing if the model isn't improving anymore. Both the ModelCheckpoint and the EarlyStopper will be using validation accuracy as the metric to monitor. This allows me to set the epochs at a higher number than I expect to be beneficial and allow the model to stop itself when it isn't learning anymore. The data is then shuffled and split into 80% training and 20% validation sets and the model is trained on it."
   ]
  },
  {
   "cell_type": "code",
   "execution_count": 15,
   "metadata": {},
   "outputs": [
    {
     "name": "stdout",
     "output_type": "stream",
     "text": [
      "Train on 420000 samples, validate on 105000 samples\n",
      "Epoch 1/20\n",
      "420000/420000 [==============================] - 648s 2ms/step - loss: 0.4498 - acc: 0.7904 - val_loss: 0.4244 - val_acc: 0.8040\n",
      "\n",
      "Epoch 00001: val_loss improved from inf to 0.42440, saving model to model.weights.best.hdf5\n",
      "Epoch 2/20\n",
      "420000/420000 [==============================] - 644s 2ms/step - loss: 0.4019 - acc: 0.8170 - val_loss: 0.4085 - val_acc: 0.8127\n",
      "\n",
      "Epoch 00002: val_loss improved from 0.42440 to 0.40846, saving model to model.weights.best.hdf5\n",
      "Epoch 3/20\n",
      "420000/420000 [==============================] - 647s 2ms/step - loss: 0.3825 - acc: 0.8283 - val_loss: 0.4034 - val_acc: 0.8165\n",
      "\n",
      "Epoch 00003: val_loss improved from 0.40846 to 0.40342, saving model to model.weights.best.hdf5\n",
      "Epoch 4/20\n",
      "420000/420000 [==============================] - 652s 2ms/step - loss: 0.3692 - acc: 0.8353 - val_loss: 0.4044 - val_acc: 0.8169\n",
      "\n",
      "Epoch 00004: val_loss did not improve from 0.40342\n",
      "Epoch 5/20\n",
      "420000/420000 [==============================] - 656s 2ms/step - loss: 0.3583 - acc: 0.8415 - val_loss: 0.4054 - val_acc: 0.8169\n",
      "\n",
      "Epoch 00005: val_loss did not improve from 0.40342\n",
      "Epoch 6/20\n",
      "420000/420000 [==============================] - 670s 2ms/step - loss: 0.3496 - acc: 0.8460 - val_loss: 0.4129 - val_acc: 0.8136\n",
      "\n",
      "Epoch 00006: val_loss did not improve from 0.40342\n",
      "Epoch 00006: early stopping\n"
     ]
    },
    {
     "data": {
      "text/plain": [
       "<keras.callbacks.History at 0x7f60f43ebbe0>"
      ]
     },
     "execution_count": 15,
     "metadata": {},
     "output_type": "execute_result"
    }
   ],
   "source": [
    "from keras.callbacks import ModelCheckpoint, EarlyStopping\n",
    "\n",
    "saved_model_path = 'model.weights.best.hdf5'\n",
    "\n",
    "checkpointer = ModelCheckpoint(filepath=saved_model_path, \n",
    "                               monitor='val_acc',\n",
    "                               save_best_only=True,\n",
    "                               verbose=1)\n",
    "\n",
    "early_stop = EarlyStopping(monitor='val_acc', \n",
    "                           patience=3,\n",
    "                           verbose=1)\n",
    "\n",
    "batch_size = 32\n",
    "num_epochs = 20\n",
    "model.fit(train_padded, \n",
    "          y_train, \n",
    "          validation_split=0.2, \n",
    "          batch_size=batch_size, \n",
    "          epochs=num_epochs,\n",
    "          shuffle=True,\n",
    "          callbacks=[checkpointer, early_stop])\n"
   ]
  },
  {
   "cell_type": "markdown",
   "metadata": {},
   "source": [
    "After the training has completed, I will load the best weights into the model. Then I will use the model to predict the sentiment of the test data."
   ]
  },
  {
   "cell_type": "code",
   "execution_count": 16,
   "metadata": {},
   "outputs": [],
   "source": [
    "model.load_weights(saved_model_path)"
   ]
  },
  {
   "cell_type": "code",
   "execution_count": 17,
   "metadata": {},
   "outputs": [],
   "source": [
    "rnn_pred = model.predict_classes(test_padded)"
   ]
  },
  {
   "cell_type": "code",
   "execution_count": 18,
   "metadata": {},
   "outputs": [
    {
     "name": "stdout",
     "output_type": "stream",
     "text": [
      "[[71814 15598]\n",
      " [16177 71411]]\n",
      "              precision    recall  f1-score   support\n",
      "\n",
      "           0       0.82      0.82      0.82     87412\n",
      "           1       0.82      0.82      0.82     87588\n",
      "\n",
      "   micro avg       0.82      0.82      0.82    175000\n",
      "   macro avg       0.82      0.82      0.82    175000\n",
      "weighted avg       0.82      0.82      0.82    175000\n",
      "\n",
      "0.8184285714285714\n"
     ]
    }
   ],
   "source": [
    "print(confusion_matrix(y_test, rnn_pred))\n",
    "print(classification_report(y_test, rnn_pred))\n",
    "print(accuracy_score(y_test, rnn_pred))"
   ]
  },
  {
   "cell_type": "markdown",
   "metadata": {},
   "source": [
    "### Refinement\n",
    "<font color=\"red\">\n",
    "In this section, you will need to discuss the process of improvement you made upon the algorithms and techniques you used in your implementation. For example, adjusting parameters for certain models to acquire improved solutions would fall under the refinement category. Your initial and final solutions should be reported, as well as any significant intermediate results as necessary. Questions to ask yourself when writing this section:\n",
    "    \n",
    "- _Has an initial solution been found and clearly reported?_\n",
    "- _Is the process of improvement clearly documented, such as what techniques were used?_\n",
    "- _Are intermediate and final solutions clearly reported as the process is improved?_\n",
    "</font>"
   ]
  },
  {
   "cell_type": "markdown",
   "metadata": {},
   "source": [
    "## IV. Results\n",
    "<font color=\"red\">_(approx. 2-3 pages)_</font>\n",
    "\n",
    "### Model Evaluation and Validation\n",
    "<font color=\"red\">\n",
    "In this section, the final model and any supporting qualities should be evaluated in detail. It should be clear how the final model was derived and why this model was chosen. In addition, some type of analysis should be used to validate the robustness of this model and its solution, such as manipulating the input data or environment to see how the model’s solution is affected (this is called sensitivity analysis). Questions to ask yourself when writing this section:\n",
    "    \n",
    "- _Is the final model reasonable and aligning with solution expectations? Are the final parameters of the model appropriate?_\n",
    "- _Has the final model been tested with various inputs to evaluate whether the model generalizes well to unseen data?_\n",
    "- _Is the model robust enough for the problem? Do small perturbations (changes) in training data or the input space greatly affect the results?_\n",
    "- _Can results found from the model be trusted?_\n",
    "</font>\n",
    "\n",
    "\n",
    "\n",
    "### Justification\n",
    "<font color=\"red\">\n",
    "In this section, your model’s final solution and its results should be compared to the benchmark you established earlier in the project using some type of statistical analysis. You should also justify whether these results and the solution are significant enough to have solved the problem posed in the project. Questions to ask yourself when writing this section:\n",
    "    \n",
    "- _Are the final results found stronger than the benchmark result reported earlier?_\n",
    "- _Have you thoroughly analyzed and discussed the final solution?_\n",
    "- _Is the final solution significant enough to have solved the problem?_\n",
    "</font>\n",
    "\n"
   ]
  },
  {
   "cell_type": "markdown",
   "metadata": {},
   "source": [
    "## V. Conclusion\n",
    "<font color=\"red\">_(approx. 1-2 pages)_</font>\n",
    "\n",
    "### Free-Form Visualization\n",
    "<font color=\"red\">\n",
    "In this section, you will need to provide some form of visualization that emphasizes an important quality about the project. It is much more free-form, but should reasonably support a significant result or characteristic about the problem that you want to discuss. Questions to ask yourself when writing this section:\n",
    "    \n",
    "- _Have you visualized a relevant or important quality about the problem, dataset, input data, or results?_\n",
    "- _Is the visualization thoroughly analyzed and discussed?_\n",
    "- _If a plot is provided, are the axes, title, and datum clearly defined?_\n",
    "</font>"
   ]
  },
  {
   "cell_type": "code",
   "execution_count": 26,
   "metadata": {},
   "outputs": [
    {
     "data": {
      "image/png": "[encoded data removed]",
      "text/plain": [
       "<Figure size 432x288 with 1 Axes>"
      ]
     },
     "metadata": {
      "needs_background": "light"
     },
     "output_type": "display_data"
    }
   ],
   "source": [
    "import sklearn.metrics as metrics\n",
    "\n",
    "naive_fpr, naive_tpr, naive_threshold = metrics.roc_curve(y_test, predictions)\n",
    "naive_roc_auc = metrics.auc(naive_fpr, naive_tpr)\n",
    "\n",
    "rnn_fpr, rnn_tpr, rnn_threshold = metrics.roc_curve(y_test, rnn_pred)\n",
    "rnn_roc_auc = metrics.auc(rnn_fpr, rnn_tpr)\n",
    "\n",
    "plt.title('Receiver Operating Characteristic')\n",
    "plt.plot(rnn_fpr, rnn_tpr, 'b', label = 'RNN Area = %0.2f' % rnn_roc_auc)\n",
    "plt.plot(naive_fpr, naive_tpr, 'r', label = 'Naive Bayes Area = %0.2f' % naive_roc_auc)\n",
    "plt.legend(loc = 'lower right')\n",
    "plt.xlim([0, 1])\n",
    "plt.ylim([0, 1])\n",
    "plt.ylabel('True Positive Rate')\n",
    "plt.xlabel('False Positive Rate')\n",
    "plt.show()\n",
    "\n"
   ]
  },
  {
   "cell_type": "markdown",
   "metadata": {},
   "source": [
    "### Reflection\n",
    "<font color=\"red\">\n",
    "In this section, you will summarize the entire end-to-end problem solution and discuss one or two particular aspects of the project you found interesting or difficult. You are expected to reflect on the project as a whole to show that you have a firm understanding of the entire process employed in your work. Questions to ask yourself when writing this section:\n",
    "    \n",
    "- _Have you thoroughly summarized the entire process you used for this project?_\n",
    "- _Were there any interesting aspects of the project?_\n",
    "- _Were there any difficult aspects of the project?_\n",
    "- _Does the final model and solution fit your expectations for the problem, and should it be used in a general setting to solve these types of problems?_\n",
    "</font>\n",
    "\n",
    "\n",
    "\n",
    "### Improvement\n",
    "<font color=\"red\">\n",
    "In this section, you will need to provide discussion as to how one aspect of the implementation you designed could be improved. As an example, consider ways your implementation can be made more general, and what would need to be modified. You do not need to make this improvement, but the potential solutions resulting from these changes are considered and compared/contrasted to your current solution. Questions to ask yourself when writing this section:\n",
    "    \n",
    "- _Are there further improvements that could be made on the algorithms or techniques you used in this project?_\n",
    "- _Were there algorithms or techniques you researched that you did not know how to implement, but would consider using if you knew how?_\n",
    "- _If you used your final solution as the new benchmark, do you think an even better solution exists?_\n",
    "</font>"
   ]
  },
  {
   "cell_type": "markdown",
   "metadata": {},
   "source": [
    "<font color=\"red\">\n",
    "\n",
    "-----------\n",
    "**Before submitting, ask yourself. . .**\n",
    "\n",
    "- Does the project report you’ve written follow a well-organized structure similar to that of the project template?\n",
    "- Is each section (particularly **Analysis** and **Methodology**) written in a clear, concise and specific fashion? Are there any ambiguous terms or phrases that need clarification?\n",
    "- Would the intended audience of your project be able to understand your analysis, methods, and results?\n",
    "- Have you properly proof-read your project report to assure there are minimal grammatical and spelling mistakes?\n",
    "- Are all the resources used for this project correctly cited and referenced?\n",
    "- Is the code that implements your solution easily readable and properly commented?\n",
    "- Does the code execute without error and produce results similar to those reported?\n",
    "</font>"
   ]
  }
 ],
 "metadata": {
  "kernelspec": {
   "display_name": "Python 3",
   "language": "python",
   "name": "python3"
  },
  "language_info": {
   "codemirror_mode": {
    "name": "ipython",
    "version": 3
   },
   "file_extension": ".py",
   "mimetype": "text/x-python",
   "name": "python",
   "nbconvert_exporter": "python",
   "pygments_lexer": "ipython3",
   "version": "3.7.3"
  }
 },
 "nbformat": 4,
 "nbformat_minor": 2
}
